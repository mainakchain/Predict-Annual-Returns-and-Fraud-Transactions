{
 "cells": [
  {
   "cell_type": "code",
   "execution_count": 1,
   "metadata": {
    "collapsed": true
   },
   "outputs": [],
   "source": [
    "import os\n",
    "import numpy as np\n",
    "import pandas as pd \n",
    "from tqdm import tqdm_notebook\n",
    "import matplotlib.pyplot as plt\n",
    "%matplotlib inline\n",
    "\n",
    "import warnings\n",
    "warnings.filterwarnings('ignore')\n",
    "\n",
    "\n",
    "import seaborn as sns\n",
    "from collections import Counter"
   ]
  },
  {
   "cell_type": "code",
   "execution_count": 88,
   "metadata": {},
   "outputs": [
    {
     "name": "stderr",
     "output_type": "stream",
     "text": [
      "C:\\ProgramData\\Anaconda2\\lib\\site-packages\\sklearn\\cross_validation.py:44: DeprecationWarning: This module was deprecated in version 0.18 in favor of the model_selection module into which all the refactored classes and functions are moved. Also note that the interface of the new CV iterators are different from that of this module. This module will be removed in 0.20.\n",
      "  \"This module will be removed in 0.20.\", DeprecationWarning)\n",
      "C:\\ProgramData\\Anaconda2\\lib\\site-packages\\sklearn\\grid_search.py:43: DeprecationWarning: This module was deprecated in version 0.18 in favor of the model_selection module into which all the refactored classes and functions are moved. This module will be removed in 0.20.\n",
      "  DeprecationWarning)\n"
     ]
    }
   ],
   "source": [
    "# importing useful libs on the go\n",
    "import pandas as pd\n",
    "import matplotlib.pyplot as plt\n",
    "import numpy as np\n",
    "import seaborn as sns\n",
    "import sklearn\n",
    "from sklearn.preprocessing import LabelEncoder\n",
    "from sklearn.preprocessing import StandardScaler\n",
    "from sklearn.cross_validation import KFold\n",
    "import math\n",
    "from sklearn.grid_search import GridSearchCV\n",
    "from sklearn.cross_validation import StratifiedKFold\n",
    "from sklearn import cross_validation\n",
    "from sklearn import tree\n",
    "from sklearn import svm\n",
    "from sklearn import ensemble\n",
    "from sklearn import neighbors\n",
    "from sklearn import linear_model\n",
    "from sklearn import metrics\n",
    "from sklearn import preprocessing\n",
    "from sklearn.model_selection import cross_val_score\n",
    "from sklearn.model_selection import train_test_split\n",
    "import xgboost as xgb\n",
    "import matplotlib.pyplot as plt\n",
    "from sklearn.metrics import mean_absolute_error\n",
    "import collections\n",
    "from sklearn.grid_search import GridSearchCV\n",
    "\n",
    "plt.style.use('fivethirtyeight') # Good looking plots\n",
    "pd.set_option('display.max_columns', None) # Display any number of columns\n",
    "\n",
    "% matplotlib inline"
   ]
  },
  {
   "cell_type": "code",
   "execution_count": 2,
   "metadata": {
    "collapsed": true
   },
   "outputs": [],
   "source": [
    "def autolabel(arrayA):\n",
    "    ''' label each colored square with the corresponding data value. \n",
    "    If value > 20, the text is in black, else in white.\n",
    "    '''\n",
    "    arrayA = np.array(arrayA)\n",
    "    for i in range(arrayA.shape[0]):\n",
    "        for j in range(arrayA.shape[1]):\n",
    "                plt.text(j,i, \"%.2f\"%arrayA[i,j], ha='center', va='bottom',color='w')\n",
    "\n",
    "def hist_it(feat):\n",
    "    plt.figure(figsize=(16,4))\n",
    "    feat[Y==0].hist(bins=range(int(feat.min()),int(feat.max()+2)),normed=True,alpha=0.8)\n",
    "    feat[Y==1].hist(bins=range(int(feat.min()),int(feat.max()+2)),normed=True,alpha=0.5)\n",
    "    plt.ylim((0,1))\n",
    "    \n",
    "def gt_matrix(feats,sz=16):\n",
    "    a = []\n",
    "    for i,c1 in enumerate(feats):\n",
    "        b = [] \n",
    "        for j,c2 in enumerate(feats):\n",
    "            mask = (~train[c1].isnull()) & (~train[c2].isnull())\n",
    "            if i>=j:\n",
    "                b.append((train.loc[mask,c1].values>=train.loc[mask,c2].values).mean())\n",
    "            else:\n",
    "                b.append((train.loc[mask,c1].values>train.loc[mask,c2].values).mean())\n",
    "\n",
    "        a.append(b)\n",
    "\n",
    "    plt.figure(figsize = (sz,sz))\n",
    "    plt.imshow(a, interpolation = 'None')\n",
    "    _ = plt.xticks(range(len(feats)),feats,rotation = 90)\n",
    "    _ = plt.yticks(range(len(feats)),feats,rotation = 0)\n",
    "    autolabel(a)"
   ]
  },
  {
   "cell_type": "code",
   "execution_count": 3,
   "metadata": {
    "collapsed": true
   },
   "outputs": [],
   "source": [
    "def hist_it1(feat):\n",
    "    plt.figure(figsize=(16,4))\n",
    "    feat[Y==0].hist(bins=100,range=(feat.min(),feat.max()),normed=True,alpha=0.5,color='r')\n",
    "    feat[Y==1].hist(bins=100,range=(feat.min(),feat.max()),normed=True,alpha=0.5)\n",
    "    plt.ylim((0,1))"
   ]
  },
  {
   "cell_type": "code",
   "execution_count": 4,
   "metadata": {
    "collapsed": true
   },
   "outputs": [],
   "source": [
    "def hist_it2(feat):\n",
    "    plt.figure(figsize=(16,4))\n",
    "    feat[Y==0].hist(bins=100,range=(feat.min(),feat.max()),normed=True,alpha=0.5,color='r')\n",
    "    plt.ylim((0,1))"
   ]
  },
  {
   "cell_type": "code",
   "execution_count": 5,
   "metadata": {
    "collapsed": true
   },
   "outputs": [],
   "source": [
    "def hist_it3(feat):\n",
    "    plt.figure(figsize=(16,4))\n",
    "    feat[Y==1].hist(bins=100,range=(feat.min(),feat.max()),normed=True,alpha=0.5)\n",
    "    plt.ylim((0,1))"
   ]
  },
  {
   "cell_type": "code",
   "execution_count": 6,
   "metadata": {
    "collapsed": true
   },
   "outputs": [],
   "source": [
    "train = pd.read_csv('train_mod.csv')\n",
    "Y = train.target"
   ]
  },
  {
   "cell_type": "code",
   "execution_count": 5,
   "metadata": {},
   "outputs": [
    {
     "data": {
      "text/plain": [
       "(348978, 46)"
      ]
     },
     "execution_count": 5,
     "metadata": {},
     "output_type": "execute_result"
    }
   ],
   "source": [
    "train.shape"
   ]
  },
  {
   "cell_type": "code",
   "execution_count": 7,
   "metadata": {
    "collapsed": true
   },
   "outputs": [],
   "source": [
    "test = pd.read_csv('test_mod.csv')"
   ]
  },
  {
   "cell_type": "code",
   "execution_count": 7,
   "metadata": {},
   "outputs": [
    {
     "data": {
      "text/plain": [
       "(523466, 45)"
      ]
     },
     "execution_count": 7,
     "metadata": {},
     "output_type": "execute_result"
    }
   ],
   "source": [
    "test.shape"
   ]
  },
  {
   "cell_type": "code",
   "execution_count": 8,
   "metadata": {
    "collapsed": true
   },
   "outputs": [],
   "source": [
    "test_ID = test.transaction_id"
   ]
  },
  {
   "cell_type": "code",
   "execution_count": 9,
   "metadata": {},
   "outputs": [
    {
     "data": {
      "text/html": [
       "<div>\n",
       "<style>\n",
       "    .dataframe thead tr:only-child th {\n",
       "        text-align: right;\n",
       "    }\n",
       "\n",
       "    .dataframe thead th {\n",
       "        text-align: left;\n",
       "    }\n",
       "\n",
       "    .dataframe tbody tr th {\n",
       "        vertical-align: top;\n",
       "    }\n",
       "</style>\n",
       "<table border=\"1\" class=\"dataframe\">\n",
       "  <thead>\n",
       "    <tr style=\"text-align: right;\">\n",
       "      <th></th>\n",
       "      <th>transaction_id</th>\n",
       "      <th>num_var_1</th>\n",
       "      <th>num_var_2</th>\n",
       "      <th>num_var_3</th>\n",
       "      <th>num_var_4</th>\n",
       "      <th>num_var_5</th>\n",
       "      <th>num_var_6</th>\n",
       "      <th>num_var_7</th>\n",
       "      <th>cat_var_1</th>\n",
       "      <th>cat_var_2</th>\n",
       "      <th>...</th>\n",
       "      <th>cat_var_30</th>\n",
       "      <th>cat_var_32</th>\n",
       "      <th>cat_var_33</th>\n",
       "      <th>cat_var_34</th>\n",
       "      <th>cat_var_39</th>\n",
       "      <th>cat_var_41</th>\n",
       "      <th>target</th>\n",
       "      <th>cat_1_is_null</th>\n",
       "      <th>cat_3_is_null</th>\n",
       "      <th>cat_8_is_null</th>\n",
       "    </tr>\n",
       "  </thead>\n",
       "  <tbody>\n",
       "    <tr>\n",
       "      <th>0</th>\n",
       "      <td>id_11</td>\n",
       "      <td>2.302632e-08</td>\n",
       "      <td>0.040182</td>\n",
       "      <td>0.0</td>\n",
       "      <td>1.800000e-07</td>\n",
       "      <td>2.302632e-08</td>\n",
       "      <td>2.368421e-08</td>\n",
       "      <td>1.115205e-08</td>\n",
       "      <td>NaN</td>\n",
       "      <td>ce</td>\n",
       "      <td>...</td>\n",
       "      <td>0</td>\n",
       "      <td>0</td>\n",
       "      <td>0</td>\n",
       "      <td>0</td>\n",
       "      <td>0</td>\n",
       "      <td>0</td>\n",
       "      <td>0</td>\n",
       "      <td>1</td>\n",
       "      <td>0</td>\n",
       "      <td>1</td>\n",
       "    </tr>\n",
       "    <tr>\n",
       "      <th>1</th>\n",
       "      <td>id_33</td>\n",
       "      <td>7.965789e-06</td>\n",
       "      <td>0.157872</td>\n",
       "      <td>0.0</td>\n",
       "      <td>2.105000e-06</td>\n",
       "      <td>2.769737e-07</td>\n",
       "      <td>7.965789e-06</td>\n",
       "      <td>2.433058e-06</td>\n",
       "      <td>da</td>\n",
       "      <td>tn</td>\n",
       "      <td>...</td>\n",
       "      <td>0</td>\n",
       "      <td>0</td>\n",
       "      <td>0</td>\n",
       "      <td>0</td>\n",
       "      <td>0</td>\n",
       "      <td>0</td>\n",
       "      <td>0</td>\n",
       "      <td>0</td>\n",
       "      <td>0</td>\n",
       "      <td>1</td>\n",
       "    </tr>\n",
       "    <tr>\n",
       "      <th>2</th>\n",
       "      <td>id_51</td>\n",
       "      <td>7.828947e-08</td>\n",
       "      <td>0.089140</td>\n",
       "      <td>0.0</td>\n",
       "      <td>3.550000e-07</td>\n",
       "      <td>4.671053e-08</td>\n",
       "      <td>1.052632e-07</td>\n",
       "      <td>4.276014e-07</td>\n",
       "      <td>gf</td>\n",
       "      <td>ce</td>\n",
       "      <td>...</td>\n",
       "      <td>0</td>\n",
       "      <td>0</td>\n",
       "      <td>0</td>\n",
       "      <td>0</td>\n",
       "      <td>0</td>\n",
       "      <td>0</td>\n",
       "      <td>0</td>\n",
       "      <td>0</td>\n",
       "      <td>0</td>\n",
       "      <td>0</td>\n",
       "    </tr>\n",
       "    <tr>\n",
       "      <th>3</th>\n",
       "      <td>id_54</td>\n",
       "      <td>7.894737e-08</td>\n",
       "      <td>0.227239</td>\n",
       "      <td>0.0</td>\n",
       "      <td>1.050000e-06</td>\n",
       "      <td>1.381579e-07</td>\n",
       "      <td>2.190789e-07</td>\n",
       "      <td>1.848054e-08</td>\n",
       "      <td>NaN</td>\n",
       "      <td>ce</td>\n",
       "      <td>...</td>\n",
       "      <td>0</td>\n",
       "      <td>0</td>\n",
       "      <td>0</td>\n",
       "      <td>0</td>\n",
       "      <td>0</td>\n",
       "      <td>0</td>\n",
       "      <td>0</td>\n",
       "      <td>1</td>\n",
       "      <td>0</td>\n",
       "      <td>0</td>\n",
       "    </tr>\n",
       "    <tr>\n",
       "      <th>4</th>\n",
       "      <td>id_62</td>\n",
       "      <td>3.321053e-06</td>\n",
       "      <td>0.160410</td>\n",
       "      <td>0.0</td>\n",
       "      <td>2.105000e-06</td>\n",
       "      <td>2.769737e-07</td>\n",
       "      <td>3.340789e-06</td>\n",
       "      <td>2.152983e-06</td>\n",
       "      <td>da</td>\n",
       "      <td>tn</td>\n",
       "      <td>...</td>\n",
       "      <td>0</td>\n",
       "      <td>0</td>\n",
       "      <td>0</td>\n",
       "      <td>0</td>\n",
       "      <td>0</td>\n",
       "      <td>0</td>\n",
       "      <td>0</td>\n",
       "      <td>0</td>\n",
       "      <td>0</td>\n",
       "      <td>1</td>\n",
       "    </tr>\n",
       "  </tbody>\n",
       "</table>\n",
       "<p>5 rows × 46 columns</p>\n",
       "</div>"
      ],
      "text/plain": [
       "  transaction_id     num_var_1  num_var_2  num_var_3     num_var_4  \\\n",
       "0          id_11  2.302632e-08   0.040182        0.0  1.800000e-07   \n",
       "1          id_33  7.965789e-06   0.157872        0.0  2.105000e-06   \n",
       "2          id_51  7.828947e-08   0.089140        0.0  3.550000e-07   \n",
       "3          id_54  7.894737e-08   0.227239        0.0  1.050000e-06   \n",
       "4          id_62  3.321053e-06   0.160410        0.0  2.105000e-06   \n",
       "\n",
       "      num_var_5     num_var_6     num_var_7 cat_var_1 cat_var_2      ...       \\\n",
       "0  2.302632e-08  2.368421e-08  1.115205e-08       NaN        ce      ...        \n",
       "1  2.769737e-07  7.965789e-06  2.433058e-06        da        tn      ...        \n",
       "2  4.671053e-08  1.052632e-07  4.276014e-07        gf        ce      ...        \n",
       "3  1.381579e-07  2.190789e-07  1.848054e-08       NaN        ce      ...        \n",
       "4  2.769737e-07  3.340789e-06  2.152983e-06        da        tn      ...        \n",
       "\n",
       "  cat_var_30 cat_var_32 cat_var_33 cat_var_34 cat_var_39 cat_var_41 target  \\\n",
       "0          0          0          0          0          0          0      0   \n",
       "1          0          0          0          0          0          0      0   \n",
       "2          0          0          0          0          0          0      0   \n",
       "3          0          0          0          0          0          0      0   \n",
       "4          0          0          0          0          0          0      0   \n",
       "\n",
       "  cat_1_is_null cat_3_is_null cat_8_is_null  \n",
       "0             1             0             1  \n",
       "1             0             0             1  \n",
       "2             0             0             0  \n",
       "3             1             0             0  \n",
       "4             0             0             1  \n",
       "\n",
       "[5 rows x 46 columns]"
      ]
     },
     "execution_count": 9,
     "metadata": {},
     "output_type": "execute_result"
    }
   ],
   "source": [
    "train.head()"
   ]
  },
  {
   "cell_type": "code",
   "execution_count": 9,
   "metadata": {
    "collapsed": true
   },
   "outputs": [],
   "source": [
    "train.drop('transaction_id',axis=1,inplace=True)"
   ]
  },
  {
   "cell_type": "code",
   "execution_count": 10,
   "metadata": {
    "collapsed": true
   },
   "outputs": [],
   "source": [
    "test.drop('transaction_id',axis=1,inplace=True)"
   ]
  },
  {
   "cell_type": "code",
   "execution_count": 11,
   "metadata": {
    "collapsed": true
   },
   "outputs": [],
   "source": [
    "cat_cols = list(train.select_dtypes(include=['object']).columns)\n",
    "num_cols = list(train.select_dtypes(exclude=['object']).columns)"
   ]
  },
  {
   "cell_type": "code",
   "execution_count": 12,
   "metadata": {
    "collapsed": true
   },
   "outputs": [],
   "source": [
    "cat1 = cat_cols"
   ]
  },
  {
   "cell_type": "code",
   "execution_count": 13,
   "metadata": {
    "collapsed": true
   },
   "outputs": [],
   "source": [
    "cat2 = ['cat_var_19',\n",
    " 'cat_var_21',\n",
    " 'cat_var_22',\n",
    " 'cat_var_23',\n",
    " 'cat_var_24',\n",
    " 'cat_var_25',\n",
    " 'cat_var_26',\n",
    " 'cat_var_27',\n",
    " 'cat_var_28',\n",
    " 'cat_var_29',\n",
    " 'cat_var_30',\n",
    " 'cat_var_32',\n",
    " 'cat_var_33',\n",
    " 'cat_var_34',\n",
    " 'cat_var_39',\n",
    " 'cat_var_41','cat_1_is_null',\n",
    " 'cat_3_is_null',\n",
    " 'cat_8_is_null']"
   ]
  },
  {
   "cell_type": "code",
   "execution_count": 14,
   "metadata": {
    "collapsed": true
   },
   "outputs": [],
   "source": [
    "num = ['num_var_1',\n",
    " 'num_var_2',\n",
    " 'num_var_3',\n",
    " 'num_var_4',\n",
    " 'num_var_5',\n",
    " 'num_var_6',\n",
    " 'num_var_7']"
   ]
  },
  {
   "cell_type": "code",
   "execution_count": 26,
   "metadata": {
    "collapsed": true
   },
   "outputs": [
    {
     "name": "stdout",
     "output_type": "stream",
     "text": [
      "gf    132170\n",
      "da    100964\n",
      "pu     20069\n",
      "ye      6303\n",
      "ex      3236\n",
      "on      3121\n",
      "ln      2915\n",
      "og      2206\n",
      "to      2089\n",
      "nk      2025\n",
      "tl      1863\n",
      "qk      1641\n",
      "yv      1182\n",
      "zl      1180\n",
      "pv      1164\n",
      "xf      1132\n",
      "nm       947\n",
      "tq       881\n",
      "ap       859\n",
      "pt       845\n",
      "jp       815\n",
      "by       809\n",
      "fx       756\n",
      "hn       726\n",
      "mx       700\n",
      "nj       643\n",
      "ua       618\n",
      "qt       601\n",
      "ka       558\n",
      "qh       554\n",
      "       ...  \n",
      "ao        10\n",
      "mf        10\n",
      "pe        10\n",
      "eh        10\n",
      "bg        10\n",
      "bo        10\n",
      "ms         9\n",
      "tt         9\n",
      "kh         9\n",
      "rv         9\n",
      "qa         9\n",
      "bc         9\n",
      "in         9\n",
      "sx         9\n",
      "dj         9\n",
      "oh         8\n",
      "rc         8\n",
      "at         7\n",
      "mh         7\n",
      "ea         7\n",
      "xn         6\n",
      "py         6\n",
      "ed         5\n",
      "tr         5\n",
      "cc         5\n",
      "zu         4\n",
      "ev         4\n",
      "zp         4\n",
      "hk         3\n",
      "or         2\n",
      "Name: cat_var_1, Length: 534, dtype: int64\n",
      "ce    233079\n",
      "tn    103034\n",
      "ji      6570\n",
      "ep      2426\n",
      "ex      1056\n",
      "rv       548\n",
      "yv       431\n",
      "hr       413\n",
      "no       299\n",
      "iq       189\n",
      "ln       176\n",
      "ts       101\n",
      "hm        84\n",
      "da        63\n",
      "xy        53\n",
      "ua        45\n",
      "cg        45\n",
      "es        40\n",
      "db        34\n",
      "ye        31\n",
      "ap        31\n",
      "en        27\n",
      "og        25\n",
      "ip        19\n",
      "mp        10\n",
      "su        10\n",
      "ta         8\n",
      "hn         8\n",
      "mm         8\n",
      "gh         7\n",
      "pt         7\n",
      "cs         7\n",
      "qt         7\n",
      "kc         7\n",
      "qd         6\n",
      "aq         6\n",
      "td         5\n",
      "qu         5\n",
      "xw         4\n",
      "tc         4\n",
      "wf         4\n",
      "qj         4\n",
      "mf         4\n",
      "na         4\n",
      "mx         4\n",
      "gs         4\n",
      "xp         3\n",
      "ot         3\n",
      "wm         3\n",
      "ba         2\n",
      "qp         2\n",
      "pb         2\n",
      "kj         2\n",
      "io         2\n",
      "fm         2\n",
      "vy         1\n",
      "id         1\n",
      "hz         1\n",
      "tu         1\n",
      "gd         1\n",
      "Name: cat_var_2, dtype: int64\n",
      "qt    34912\n",
      "yv    20124\n",
      "db    20117\n",
      "hm    14016\n",
      "zl     8585\n",
      "po     7199\n",
      "bj     6290\n",
      "mm     5044\n",
      "rl     4982\n",
      "en     4418\n",
      "rv     4195\n",
      "ip     4066\n",
      "hv     3849\n",
      "ua     3705\n",
      "es     3698\n",
      "hn     3487\n",
      "ur     3450\n",
      "cg     2651\n",
      "og     2317\n",
      "lb     1981\n",
      "ji     1972\n",
      "uz     1966\n",
      "ba     1824\n",
      "lj     1821\n",
      "td     1551\n",
      "gs     1433\n",
      "tn     1411\n",
      "tl     1383\n",
      "fm     1381\n",
      "vi     1372\n",
      "      ...  \n",
      "sk       28\n",
      "ma       28\n",
      "lp       28\n",
      "qe       28\n",
      "wd       28\n",
      "ra       28\n",
      "px       27\n",
      "fb       27\n",
      "ad       27\n",
      "le       27\n",
      "ki       27\n",
      "oy       26\n",
      "cu       26\n",
      "la       25\n",
      "xf       24\n",
      "qw       24\n",
      "ni       23\n",
      "us       23\n",
      "de       22\n",
      "hg       22\n",
      "hk       21\n",
      "tt       21\n",
      "hs       20\n",
      "ii       20\n",
      "lx       20\n",
      "fw       19\n",
      "ld       18\n",
      "xt       16\n",
      "pc       15\n",
      "mr       12\n",
      "Name: cat_var_3, Length: 616, dtype: int64\n",
      "tn    232909\n",
      "ep    116069\n",
      "Name: cat_var_4, dtype: int64\n",
      "tn    174898\n",
      "ep    174080\n",
      "Name: cat_var_5, dtype: int64\n",
      "zs    132059\n",
      "hm    100850\n",
      "qt      6291\n",
      "mm      5805\n",
      "qw      4955\n",
      "da      4563\n",
      "ta      3602\n",
      "ua      3534\n",
      "ln      3247\n",
      "no      2893\n",
      "db      2595\n",
      "xm      2114\n",
      "iq      2110\n",
      "bx      2074\n",
      "nj      2033\n",
      "mp      1796\n",
      "uz      1658\n",
      "sr      1503\n",
      "au      1489\n",
      "kh      1447\n",
      "jx      1352\n",
      "mx      1322\n",
      "ct      1182\n",
      "qm      1141\n",
      "is      1133\n",
      "td       996\n",
      "jt       921\n",
      "xy       850\n",
      "kg       838\n",
      "pt       793\n",
      "       ...  \n",
      "rc        16\n",
      "di        16\n",
      "xh        16\n",
      "yh        16\n",
      "gw        16\n",
      "yu        16\n",
      "am        16\n",
      "zl        15\n",
      "ad        15\n",
      "iz        15\n",
      "wb        15\n",
      "sc        15\n",
      "qq        14\n",
      "br        14\n",
      "fb        14\n",
      "pa        14\n",
      "nw        13\n",
      "mh        13\n",
      "dv        13\n",
      "qa        12\n",
      "cw        12\n",
      "uc        12\n",
      "zo        12\n",
      "rw        11\n",
      "jb        11\n",
      "ay        11\n",
      "jp        10\n",
      "vw        10\n",
      "ke         6\n",
      "mv         5\n",
      "Name: cat_var_6, Length: 518, dtype: int64\n",
      "ep    348539\n",
      "iq       231\n",
      "tn        63\n",
      "ji        41\n",
      "ce        29\n",
      "ex        15\n",
      "rv        11\n",
      "es        10\n",
      "td         9\n",
      "db         8\n",
      "qt         6\n",
      "yv         4\n",
      "mp         3\n",
      "no         2\n",
      "ip         2\n",
      "hr         1\n",
      "ye         1\n",
      "ua         1\n",
      "ts         1\n",
      "da         1\n",
      "Name: cat_var_7, dtype: int64\n",
      "dn    132170\n",
      "jo     20217\n",
      "tk      6921\n",
      "ye      6303\n",
      "tu      3471\n",
      "ex      3236\n",
      "ln      3015\n",
      "jf      2472\n",
      "og      2207\n",
      "cb      2089\n",
      "lh      2040\n",
      "qz      1863\n",
      "qk      1641\n",
      "tb      1534\n",
      "ga      1345\n",
      "ov      1238\n",
      "yv      1183\n",
      "vu      1168\n",
      "lb      1092\n",
      "pt       959\n",
      "vk       947\n",
      "ap       859\n",
      "jp       842\n",
      "tr       809\n",
      "ii       756\n",
      "hn       726\n",
      "ua       720\n",
      "mx       717\n",
      "xl       616\n",
      "ka       615\n",
      "       ...  \n",
      "tj         7\n",
      "gk         7\n",
      "vn         7\n",
      "zd         7\n",
      "ds         7\n",
      "yi         7\n",
      "yx         7\n",
      "ha         7\n",
      "qw         6\n",
      "sj         6\n",
      "yz         6\n",
      "tv         5\n",
      "qb         5\n",
      "uz         5\n",
      "bg         5\n",
      "qh         4\n",
      "tf         4\n",
      "az         4\n",
      "lp         4\n",
      "wk         4\n",
      "hg         4\n",
      "ra         3\n",
      "ll         3\n",
      "ss         3\n",
      "st         3\n",
      "sc         3\n",
      "rv         3\n",
      "oh         3\n",
      "im         2\n",
      "wl         1\n",
      "Name: cat_var_8, Length: 462, dtype: int64\n",
      "ep    81529\n",
      "tn    73011\n",
      "iq    69983\n",
      "hr    67386\n",
      "ce    57069\n",
      "Name: cat_var_9, dtype: int64\n",
      "ye    34614\n",
      "hm    33126\n",
      "mm    32148\n",
      "td    30661\n",
      "ua    24829\n",
      "ji    23203\n",
      "xy    17301\n",
      "rv    15490\n",
      "ex    12935\n",
      "qt    12877\n",
      "cg    12123\n",
      "yv    11939\n",
      "ip    11805\n",
      "mp    11024\n",
      "db    10715\n",
      "es    10540\n",
      "da    10091\n",
      "ep     9573\n",
      "hr     8684\n",
      "tn     8157\n",
      "iq     4894\n",
      "no     2177\n",
      "ce       72\n",
      "Name: cat_var_10, dtype: int64\n",
      "ce    82301\n",
      "tn    80719\n",
      "hr    78350\n",
      "iq    76228\n",
      "ep    31380\n",
      "Name: cat_var_11, dtype: int64\n",
      "tn    142790\n",
      "iq    118424\n",
      "ep     32866\n",
      "ce     29184\n",
      "hr     25714\n",
      "Name: cat_var_12, dtype: int64\n",
      "hr    132770\n",
      "hm    104344\n",
      "es     21467\n",
      "ip      8983\n",
      "qt      8334\n",
      "ce      5501\n",
      "en      5091\n",
      "gh      4039\n",
      "iq      3784\n",
      "ji      3709\n",
      "ye      3586\n",
      "tn      3329\n",
      "da      3211\n",
      "yv      2702\n",
      "mm      2631\n",
      "pt      2627\n",
      "wf      2488\n",
      "no      2013\n",
      "ta      1842\n",
      "xy      1652\n",
      "hn      1631\n",
      "pb      1587\n",
      "td      1579\n",
      "mx      1499\n",
      "qu      1412\n",
      "cg      1368\n",
      "ex      1117\n",
      "ep      1099\n",
      "qj      1062\n",
      "ap      1058\n",
      "db      1016\n",
      "op       966\n",
      "og       934\n",
      "io       817\n",
      "fm       808\n",
      "xp       788\n",
      "kj       768\n",
      "ts       733\n",
      "vy       716\n",
      "su       528\n",
      "qd       476\n",
      "ln       460\n",
      "uq       404\n",
      "rv       365\n",
      "aq       258\n",
      "na       250\n",
      "ba       213\n",
      "ua       212\n",
      "mf       207\n",
      "cs       187\n",
      "hz       182\n",
      "mp       175\n",
      "Name: cat_var_13, dtype: int64\n",
      "db    248013\n",
      "ep     27041\n",
      "td     13293\n",
      "tn     11751\n",
      "rv     10092\n",
      "ce      8561\n",
      "ip      6970\n",
      "ex      5834\n",
      "es      5689\n",
      "ji      5677\n",
      "hr      3077\n",
      "iq      2980\n",
      "Name: cat_var_14, dtype: int64\n",
      "ep    236413\n",
      "tn    112565\n",
      "Name: cat_var_15, dtype: int64\n",
      "tn    320148\n",
      "ep     28830\n",
      "Name: cat_var_16, dtype: int64\n",
      "tn    254043\n",
      "ep     94935\n",
      "Name: cat_var_17, dtype: int64\n",
      "ep    199168\n",
      "tn    149810\n",
      "Name: cat_var_18, dtype: int64\n"
     ]
    }
   ],
   "source": [
    "for cat in cat1:\n",
    "    print train[cat].value_counts()"
   ]
  },
  {
   "cell_type": "code",
   "execution_count": 15,
   "metadata": {
    "collapsed": true
   },
   "outputs": [],
   "source": [
    "train.fillna('NaN',inplace=True)"
   ]
  },
  {
   "cell_type": "code",
   "execution_count": 16,
   "metadata": {
    "collapsed": true
   },
   "outputs": [],
   "source": [
    "test.fillna('NaN',inplace=True)"
   ]
  },
  {
   "cell_type": "code",
   "execution_count": 17,
   "metadata": {
    "collapsed": true
   },
   "outputs": [],
   "source": [
    "cat_var_1_uni = train['cat_var_1'].unique()"
   ]
  },
  {
   "cell_type": "code",
   "execution_count": 18,
   "metadata": {
    "collapsed": true,
    "scrolled": true
   },
   "outputs": [],
   "source": [
    "l = []\n",
    "for cat in cat1:\n",
    "    for i in train[cat].unique():\n",
    "        if i in cat_var_1_uni:\n",
    "            continue\n",
    "        l.append(i)\n"
   ]
  },
  {
   "cell_type": "code",
   "execution_count": 19,
   "metadata": {
    "collapsed": true
   },
   "outputs": [],
   "source": [
    "for i in cat_var_1_uni:\n",
    "    l.append(i)"
   ]
  },
  {
   "cell_type": "code",
   "execution_count": 20,
   "metadata": {},
   "outputs": [
    {
     "data": {
      "text/plain": [
       "627"
      ]
     },
     "execution_count": 20,
     "metadata": {},
     "output_type": "execute_result"
    }
   ],
   "source": [
    "len(l)"
   ]
  },
  {
   "cell_type": "code",
   "execution_count": 21,
   "metadata": {
    "collapsed": true
   },
   "outputs": [],
   "source": [
    "dic = dict(zip(l,range(1,628)))"
   ]
  },
  {
   "cell_type": "code",
   "execution_count": 22,
   "metadata": {
    "collapsed": true
   },
   "outputs": [],
   "source": [
    "dic['NaN'] = -999"
   ]
  },
  {
   "cell_type": "code",
   "execution_count": 23,
   "metadata": {
    "collapsed": true
   },
   "outputs": [],
   "source": [
    "for cat in cat1:\n",
    "    train[cat] = train[cat].map(dic).astype(int)"
   ]
  },
  {
   "cell_type": "code",
   "execution_count": 72,
   "metadata": {},
   "outputs": [
    {
     "data": {
      "text/plain": [
       "RandomForestClassifier(bootstrap=True, class_weight=None, criterion='gini',\n",
       "            max_depth=None, max_features='auto', max_leaf_nodes=None,\n",
       "            min_impurity_split=1e-07, min_samples_leaf=1,\n",
       "            min_samples_split=2, min_weight_fraction_leaf=0.0,\n",
       "            n_estimators=10, n_jobs=1, oob_score=False, random_state=None,\n",
       "            verbose=0, warm_start=False)"
      ]
     },
     "execution_count": 72,
     "metadata": {},
     "output_type": "execute_result"
    }
   ],
   "source": [
    "from sklearn.ensemble import RandomForestClassifier\n",
    "\n",
    "# Create a copy to work with\n",
    "X = train.copy()\n",
    "\n",
    "# Save and drop labels\n",
    "y = train.target\n",
    "X = X.drop('target', axis=1)\n",
    "\n",
    "# fill NANs \n",
    "X = X.fillna(-999)\n",
    "\n",
    "\n"
   ]
  },
  {
   "cell_type": "code",
   "execution_count": 80,
   "metadata": {
    "collapsed": true
   },
   "outputs": [
    {
     "data": {
      "text/plain": [
       "RandomForestClassifier(bootstrap=True, class_weight=None, criterion='gini',\n",
       "            max_depth=None, max_features='auto', max_leaf_nodes=None,\n",
       "            min_impurity_split=1e-07, min_samples_leaf=1,\n",
       "            min_samples_split=2, min_weight_fraction_leaf=0.0,\n",
       "            n_estimators=10, n_jobs=1, oob_score=False, random_state=None,\n",
       "            verbose=0, warm_start=False)"
      ]
     },
     "execution_count": 80,
     "metadata": {},
     "output_type": "execute_result"
    }
   ],
   "source": [
    "rf = RandomForestClassifier()\n",
    "rf.fit(X,y)"
   ]
  },
  {
   "cell_type": "code",
   "execution_count": 82,
   "metadata": {
    "collapsed": true
   },
   "outputs": [
    {
     "data": {
      "text/plain": [
       "array([  8.93071639e-02,   5.43638968e-02,   8.67175029e-06,\n",
       "         8.95686866e-02,   2.27227713e-02,   6.61706403e-02,\n",
       "         1.60890879e-01,   3.35021768e-02,   1.93838802e-02,\n",
       "         9.58634587e-02,   1.44460624e-02,   1.71786419e-02,\n",
       "         8.67947595e-02,   2.48783978e-03,   2.96529486e-02,\n",
       "         2.01331884e-02,   3.08298927e-02,   1.49076221e-02,\n",
       "         8.91562908e-03,   2.78055496e-02,   4.51505266e-02,\n",
       "         2.14023023e-02,   5.37598727e-03,   1.12689655e-02,\n",
       "         8.47973914e-03,   9.87119084e-03,   1.44898382e-03,\n",
       "         7.23743976e-04,   4.49315188e-04,   3.12729988e-03,\n",
       "         1.22334263e-04,   1.82143035e-03,   0.00000000e+00,\n",
       "         1.72066812e-05,   4.31029437e-05,   1.66194829e-04,\n",
       "         0.00000000e+00,   0.00000000e+00,   0.00000000e+00,\n",
       "         1.50530576e-05,   0.00000000e+00,   4.61807412e-04,\n",
       "         4.36475640e-03,   7.55700212e-04])"
      ]
     },
     "execution_count": 82,
     "metadata": {},
     "output_type": "execute_result"
    }
   ],
   "source": [
    "rf.feature_importances_"
   ]
  },
  {
   "cell_type": "code",
   "execution_count": 81,
   "metadata": {
    "scrolled": true
   },
   "outputs": [
    {
     "data": {
      "image/png": "[encoded data removed]",
      "text/plain": [
       "<matplotlib.figure.Figure at 0x11d8d7b8>"
      ]
     },
     "metadata": {},
     "output_type": "display_data"
    }
   ],
   "source": [
    "plt.figure(figsize=(25,20))\n",
    "plt.plot(rf.feature_importances_)\n",
    "plt.xticks(np.arange(X.shape[1]), X.columns.tolist(), rotation=90);"
   ]
  },
  {
   "cell_type": "code",
   "execution_count": 24,
   "metadata": {
    "collapsed": true
   },
   "outputs": [],
   "source": [
    "for cat in cat1:\n",
    "    test[cat] = test[cat].map(dic).astype(int)"
   ]
  },
  {
   "cell_type": "code",
   "execution_count": 38,
   "metadata": {
    "collapsed": true
   },
   "outputs": [
    {
     "data": {
      "image/png": "[encoded data removed]",
      "text/plain": [
       "<matplotlib.figure.Figure at 0x5251b00>"
      ]
     },
     "metadata": {},
     "output_type": "display_data"
    }
   ],
   "source": [
    "cm = np.corrcoef(train[num].values.T)\n",
    "sns.set(font_scale=1.25)\n",
    "a4_dims = (30,30)\n",
    "fig ,ax = plt.subplots(figsize=a4_dims)\n",
    "hm = sns.heatmap(cm, cbar=True, annot=True, square=True, fmt='.2f',ax =ax, yticklabels=train[num].columns.values, xticklabels=train[num].columns.values)\n",
    "plt.show()"
   ]
  },
  {
   "cell_type": "code",
   "execution_count": 40,
   "metadata": {},
   "outputs": [
    {
     "data": {
      "text/html": [
       "<div>\n",
       "<style>\n",
       "    .dataframe thead tr:only-child th {\n",
       "        text-align: right;\n",
       "    }\n",
       "\n",
       "    .dataframe thead th {\n",
       "        text-align: left;\n",
       "    }\n",
       "\n",
       "    .dataframe tbody tr th {\n",
       "        vertical-align: top;\n",
       "    }\n",
       "</style>\n",
       "<table border=\"1\" class=\"dataframe\">\n",
       "  <thead>\n",
       "    <tr style=\"text-align: right;\">\n",
       "      <th></th>\n",
       "      <th>cat_var_1</th>\n",
       "      <th>cat_var_2</th>\n",
       "      <th>cat_var_3</th>\n",
       "      <th>cat_var_4</th>\n",
       "      <th>cat_var_5</th>\n",
       "      <th>cat_var_6</th>\n",
       "      <th>cat_var_7</th>\n",
       "      <th>cat_var_8</th>\n",
       "      <th>cat_var_9</th>\n",
       "      <th>cat_var_10</th>\n",
       "      <th>cat_var_11</th>\n",
       "      <th>cat_var_12</th>\n",
       "      <th>cat_var_13</th>\n",
       "      <th>cat_var_14</th>\n",
       "      <th>cat_var_15</th>\n",
       "      <th>cat_var_16</th>\n",
       "      <th>cat_var_17</th>\n",
       "      <th>cat_var_18</th>\n",
       "    </tr>\n",
       "  </thead>\n",
       "  <tbody>\n",
       "    <tr>\n",
       "      <th>0</th>\n",
       "      <td>-999</td>\n",
       "      <td>564</td>\n",
       "      <td>359</td>\n",
       "      <td>129</td>\n",
       "      <td>140</td>\n",
       "      <td>116</td>\n",
       "      <td>129</td>\n",
       "      <td>-999</td>\n",
       "      <td>140</td>\n",
       "      <td>359</td>\n",
       "      <td>176</td>\n",
       "      <td>129</td>\n",
       "      <td>433</td>\n",
       "      <td>359</td>\n",
       "      <td>129</td>\n",
       "      <td>140</td>\n",
       "      <td>140</td>\n",
       "      <td>129</td>\n",
       "    </tr>\n",
       "    <tr>\n",
       "      <th>1</th>\n",
       "      <td>94</td>\n",
       "      <td>140</td>\n",
       "      <td>101</td>\n",
       "      <td>140</td>\n",
       "      <td>129</td>\n",
       "      <td>118</td>\n",
       "      <td>129</td>\n",
       "      <td>-999</td>\n",
       "      <td>486</td>\n",
       "      <td>108</td>\n",
       "      <td>176</td>\n",
       "      <td>176</td>\n",
       "      <td>118</td>\n",
       "      <td>359</td>\n",
       "      <td>140</td>\n",
       "      <td>140</td>\n",
       "      <td>140</td>\n",
       "      <td>140</td>\n",
       "    </tr>\n",
       "    <tr>\n",
       "      <th>2</th>\n",
       "      <td>95</td>\n",
       "      <td>564</td>\n",
       "      <td>186</td>\n",
       "      <td>140</td>\n",
       "      <td>129</td>\n",
       "      <td>395</td>\n",
       "      <td>129</td>\n",
       "      <td>483</td>\n",
       "      <td>486</td>\n",
       "      <td>116</td>\n",
       "      <td>564</td>\n",
       "      <td>140</td>\n",
       "      <td>486</td>\n",
       "      <td>359</td>\n",
       "      <td>129</td>\n",
       "      <td>140</td>\n",
       "      <td>140</td>\n",
       "      <td>129</td>\n",
       "    </tr>\n",
       "    <tr>\n",
       "      <th>3</th>\n",
       "      <td>-999</td>\n",
       "      <td>564</td>\n",
       "      <td>516</td>\n",
       "      <td>129</td>\n",
       "      <td>129</td>\n",
       "      <td>379</td>\n",
       "      <td>129</td>\n",
       "      <td>317</td>\n",
       "      <td>129</td>\n",
       "      <td>552</td>\n",
       "      <td>176</td>\n",
       "      <td>129</td>\n",
       "      <td>564</td>\n",
       "      <td>140</td>\n",
       "      <td>129</td>\n",
       "      <td>140</td>\n",
       "      <td>140</td>\n",
       "      <td>129</td>\n",
       "    </tr>\n",
       "    <tr>\n",
       "      <th>4</th>\n",
       "      <td>94</td>\n",
       "      <td>140</td>\n",
       "      <td>304</td>\n",
       "      <td>140</td>\n",
       "      <td>129</td>\n",
       "      <td>118</td>\n",
       "      <td>129</td>\n",
       "      <td>-999</td>\n",
       "      <td>129</td>\n",
       "      <td>618</td>\n",
       "      <td>486</td>\n",
       "      <td>176</td>\n",
       "      <td>118</td>\n",
       "      <td>359</td>\n",
       "      <td>140</td>\n",
       "      <td>140</td>\n",
       "      <td>140</td>\n",
       "      <td>140</td>\n",
       "    </tr>\n",
       "    <tr>\n",
       "      <th>5</th>\n",
       "      <td>95</td>\n",
       "      <td>564</td>\n",
       "      <td>108</td>\n",
       "      <td>140</td>\n",
       "      <td>140</td>\n",
       "      <td>395</td>\n",
       "      <td>129</td>\n",
       "      <td>483</td>\n",
       "      <td>140</td>\n",
       "      <td>322</td>\n",
       "      <td>140</td>\n",
       "      <td>140</td>\n",
       "      <td>486</td>\n",
       "      <td>359</td>\n",
       "      <td>129</td>\n",
       "      <td>140</td>\n",
       "      <td>140</td>\n",
       "      <td>129</td>\n",
       "    </tr>\n",
       "    <tr>\n",
       "      <th>6</th>\n",
       "      <td>96</td>\n",
       "      <td>564</td>\n",
       "      <td>108</td>\n",
       "      <td>129</td>\n",
       "      <td>129</td>\n",
       "      <td>144</td>\n",
       "      <td>129</td>\n",
       "      <td>96</td>\n",
       "      <td>564</td>\n",
       "      <td>322</td>\n",
       "      <td>140</td>\n",
       "      <td>140</td>\n",
       "      <td>359</td>\n",
       "      <td>322</td>\n",
       "      <td>129</td>\n",
       "      <td>140</td>\n",
       "      <td>129</td>\n",
       "      <td>140</td>\n",
       "    </tr>\n",
       "    <tr>\n",
       "      <th>7</th>\n",
       "      <td>94</td>\n",
       "      <td>140</td>\n",
       "      <td>487</td>\n",
       "      <td>140</td>\n",
       "      <td>129</td>\n",
       "      <td>118</td>\n",
       "      <td>129</td>\n",
       "      <td>-999</td>\n",
       "      <td>176</td>\n",
       "      <td>433</td>\n",
       "      <td>140</td>\n",
       "      <td>176</td>\n",
       "      <td>118</td>\n",
       "      <td>359</td>\n",
       "      <td>140</td>\n",
       "      <td>140</td>\n",
       "      <td>129</td>\n",
       "      <td>140</td>\n",
       "    </tr>\n",
       "    <tr>\n",
       "      <th>8</th>\n",
       "      <td>97</td>\n",
       "      <td>564</td>\n",
       "      <td>-999</td>\n",
       "      <td>129</td>\n",
       "      <td>140</td>\n",
       "      <td>313</td>\n",
       "      <td>129</td>\n",
       "      <td>211</td>\n",
       "      <td>140</td>\n",
       "      <td>515</td>\n",
       "      <td>176</td>\n",
       "      <td>564</td>\n",
       "      <td>552</td>\n",
       "      <td>129</td>\n",
       "      <td>129</td>\n",
       "      <td>129</td>\n",
       "      <td>140</td>\n",
       "      <td>140</td>\n",
       "    </tr>\n",
       "    <tr>\n",
       "      <th>9</th>\n",
       "      <td>94</td>\n",
       "      <td>140</td>\n",
       "      <td>137</td>\n",
       "      <td>140</td>\n",
       "      <td>129</td>\n",
       "      <td>118</td>\n",
       "      <td>129</td>\n",
       "      <td>-999</td>\n",
       "      <td>140</td>\n",
       "      <td>108</td>\n",
       "      <td>486</td>\n",
       "      <td>176</td>\n",
       "      <td>118</td>\n",
       "      <td>359</td>\n",
       "      <td>140</td>\n",
       "      <td>140</td>\n",
       "      <td>129</td>\n",
       "      <td>140</td>\n",
       "    </tr>\n",
       "  </tbody>\n",
       "</table>\n",
       "</div>"
      ],
      "text/plain": [
       "   cat_var_1  cat_var_2  cat_var_3  cat_var_4  cat_var_5  cat_var_6  \\\n",
       "0       -999        564        359        129        140        116   \n",
       "1         94        140        101        140        129        118   \n",
       "2         95        564        186        140        129        395   \n",
       "3       -999        564        516        129        129        379   \n",
       "4         94        140        304        140        129        118   \n",
       "5         95        564        108        140        140        395   \n",
       "6         96        564        108        129        129        144   \n",
       "7         94        140        487        140        129        118   \n",
       "8         97        564       -999        129        140        313   \n",
       "9         94        140        137        140        129        118   \n",
       "\n",
       "   cat_var_7  cat_var_8  cat_var_9  cat_var_10  cat_var_11  cat_var_12  \\\n",
       "0        129       -999        140         359         176         129   \n",
       "1        129       -999        486         108         176         176   \n",
       "2        129        483        486         116         564         140   \n",
       "3        129        317        129         552         176         129   \n",
       "4        129       -999        129         618         486         176   \n",
       "5        129        483        140         322         140         140   \n",
       "6        129         96        564         322         140         140   \n",
       "7        129       -999        176         433         140         176   \n",
       "8        129        211        140         515         176         564   \n",
       "9        129       -999        140         108         486         176   \n",
       "\n",
       "   cat_var_13  cat_var_14  cat_var_15  cat_var_16  cat_var_17  cat_var_18  \n",
       "0         433         359         129         140         140         129  \n",
       "1         118         359         140         140         140         140  \n",
       "2         486         359         129         140         140         129  \n",
       "3         564         140         129         140         140         129  \n",
       "4         118         359         140         140         140         140  \n",
       "5         486         359         129         140         140         129  \n",
       "6         359         322         129         140         129         140  \n",
       "7         118         359         140         140         129         140  \n",
       "8         552         129         129         129         140         140  \n",
       "9         118         359         140         140         129         140  "
      ]
     },
     "execution_count": 40,
     "metadata": {},
     "output_type": "execute_result"
    }
   ],
   "source": [
    "train[cat1].head(10)"
   ]
  },
  {
   "cell_type": "code",
   "execution_count": 55,
   "metadata": {},
   "outputs": [
    {
     "data": {
      "text/plain": [
       "5"
      ]
     },
     "execution_count": 55,
     "metadata": {},
     "output_type": "execute_result"
    }
   ],
   "source": [
    "(train[cat1].iloc[0]).value_counts().max()"
   ]
  },
  {
   "cell_type": "code",
   "execution_count": 25,
   "metadata": {},
   "outputs": [
    {
     "data": {
      "text/plain": [
       "array([ 0.        ,  0.27586207,  0.03448276,  0.72413793,  0.13793103,\n",
       "        0.75862069,  0.31034483,  0.68965517])"
      ]
     },
     "execution_count": 25,
     "metadata": {},
     "output_type": "execute_result"
    }
   ],
   "source": [
    "train['num_var_3'].unique()"
   ]
  },
  {
   "cell_type": "code",
   "execution_count": 26,
   "metadata": {
    "collapsed": true
   },
   "outputs": [],
   "source": [
    "l = [0,3,1,6,2,7,4,5]"
   ]
  },
  {
   "cell_type": "code",
   "execution_count": 27,
   "metadata": {
    "collapsed": true
   },
   "outputs": [],
   "source": [
    "dic = dict(zip(train['num_var_3'].unique(),l))"
   ]
  },
  {
   "cell_type": "code",
   "execution_count": 28,
   "metadata": {
    "collapsed": true
   },
   "outputs": [],
   "source": [
    "train['num_var_3'] = train['num_var_3'].map(dic)"
   ]
  },
  {
   "cell_type": "code",
   "execution_count": 29,
   "metadata": {
    "collapsed": true
   },
   "outputs": [],
   "source": [
    "test['num_var_3'] = test['num_var_3'].map(dic)"
   ]
  },
  {
   "cell_type": "code",
   "execution_count": 85,
   "metadata": {},
   "outputs": [
    {
     "data": {
      "text/html": [
       "<div>\n",
       "<style>\n",
       "    .dataframe thead tr:only-child th {\n",
       "        text-align: right;\n",
       "    }\n",
       "\n",
       "    .dataframe thead th {\n",
       "        text-align: left;\n",
       "    }\n",
       "\n",
       "    .dataframe tbody tr th {\n",
       "        vertical-align: top;\n",
       "    }\n",
       "</style>\n",
       "<table border=\"1\" class=\"dataframe\">\n",
       "  <thead>\n",
       "    <tr style=\"text-align: right;\">\n",
       "      <th></th>\n",
       "      <th>num_var_1</th>\n",
       "      <th>num_var_2</th>\n",
       "      <th>num_var_3</th>\n",
       "      <th>num_var_4</th>\n",
       "      <th>num_var_5</th>\n",
       "      <th>num_var_6</th>\n",
       "      <th>num_var_7</th>\n",
       "    </tr>\n",
       "  </thead>\n",
       "  <tbody>\n",
       "    <tr>\n",
       "      <th>0</th>\n",
       "      <td>2.302632e-08</td>\n",
       "      <td>0.040182</td>\n",
       "      <td>0</td>\n",
       "      <td>1.800000e-07</td>\n",
       "      <td>2.302632e-08</td>\n",
       "      <td>2.368421e-08</td>\n",
       "      <td>1.115205e-08</td>\n",
       "    </tr>\n",
       "    <tr>\n",
       "      <th>1</th>\n",
       "      <td>7.965789e-06</td>\n",
       "      <td>0.157872</td>\n",
       "      <td>0</td>\n",
       "      <td>2.105000e-06</td>\n",
       "      <td>2.769737e-07</td>\n",
       "      <td>7.965789e-06</td>\n",
       "      <td>2.433058e-06</td>\n",
       "    </tr>\n",
       "    <tr>\n",
       "      <th>2</th>\n",
       "      <td>7.828947e-08</td>\n",
       "      <td>0.089140</td>\n",
       "      <td>0</td>\n",
       "      <td>3.550000e-07</td>\n",
       "      <td>4.671053e-08</td>\n",
       "      <td>1.052632e-07</td>\n",
       "      <td>4.276014e-07</td>\n",
       "    </tr>\n",
       "    <tr>\n",
       "      <th>3</th>\n",
       "      <td>7.894737e-08</td>\n",
       "      <td>0.227239</td>\n",
       "      <td>0</td>\n",
       "      <td>1.050000e-06</td>\n",
       "      <td>1.381579e-07</td>\n",
       "      <td>2.190789e-07</td>\n",
       "      <td>1.848054e-08</td>\n",
       "    </tr>\n",
       "    <tr>\n",
       "      <th>4</th>\n",
       "      <td>3.321053e-06</td>\n",
       "      <td>0.160410</td>\n",
       "      <td>0</td>\n",
       "      <td>2.105000e-06</td>\n",
       "      <td>2.769737e-07</td>\n",
       "      <td>3.340789e-06</td>\n",
       "      <td>2.152983e-06</td>\n",
       "    </tr>\n",
       "  </tbody>\n",
       "</table>\n",
       "</div>"
      ],
      "text/plain": [
       "      num_var_1  num_var_2  num_var_3     num_var_4     num_var_5  \\\n",
       "0  2.302632e-08   0.040182          0  1.800000e-07  2.302632e-08   \n",
       "1  7.965789e-06   0.157872          0  2.105000e-06  2.769737e-07   \n",
       "2  7.828947e-08   0.089140          0  3.550000e-07  4.671053e-08   \n",
       "3  7.894737e-08   0.227239          0  1.050000e-06  1.381579e-07   \n",
       "4  3.321053e-06   0.160410          0  2.105000e-06  2.769737e-07   \n",
       "\n",
       "      num_var_6     num_var_7  \n",
       "0  2.368421e-08  1.115205e-08  \n",
       "1  7.965789e-06  2.433058e-06  \n",
       "2  1.052632e-07  4.276014e-07  \n",
       "3  2.190789e-07  1.848054e-08  \n",
       "4  3.340789e-06  2.152983e-06  "
      ]
     },
     "execution_count": 85,
     "metadata": {},
     "output_type": "execute_result"
    }
   ],
   "source": [
    "train[num].head()"
   ]
  },
  {
   "cell_type": "code",
   "execution_count": 146,
   "metadata": {},
   "outputs": [
    {
     "data": {
      "text/plain": [
       "(0, 0.02)"
      ]
     },
     "execution_count": 146,
     "metadata": {},
     "output_type": "execute_result"
    },
    {
     "data": {
      "image/png": "[encoded data removed]",
      "text/plain": [
       "<matplotlib.figure.Figure at 0x1043fc50>"
      ]
     },
     "metadata": {},
     "output_type": "display_data"
    },
    {
     "data": {
      "image/png": "[encoded data removed]",
      "text/plain": [
       "<matplotlib.figure.Figure at 0x1043ff98>"
      ]
     },
     "metadata": {},
     "output_type": "display_data"
    }
   ],
   "source": [
    "hist_it2(train['num_var_1'])\n",
    "plt.ylim((0,1))\n",
    "plt.xlim((0,.02))\n",
    "\n",
    "hist_it3(train['num_var_1'])\n",
    "plt.ylim((0,1))\n",
    "plt.xlim((0,.02))"
   ]
  },
  {
   "cell_type": "code",
   "execution_count": 30,
   "metadata": {
    "collapsed": true
   },
   "outputs": [],
   "source": [
    "n1 = []\n",
    "for i in train['num_var_1']:\n",
    "    if i > .0050:\n",
    "        n1.append(1)\n",
    "    else:\n",
    "        n1.append(0)"
   ]
  },
  {
   "cell_type": "code",
   "execution_count": 31,
   "metadata": {
    "collapsed": true
   },
   "outputs": [],
   "source": [
    "train['num_1_greater'] = n1"
   ]
  },
  {
   "cell_type": "code",
   "execution_count": 32,
   "metadata": {
    "collapsed": true
   },
   "outputs": [],
   "source": [
    "n1 = []\n",
    "for i in test['num_var_1']:\n",
    "    if i > .0050:\n",
    "        n1.append(1)\n",
    "    else:\n",
    "        n1.append(0)"
   ]
  },
  {
   "cell_type": "code",
   "execution_count": 33,
   "metadata": {
    "collapsed": true
   },
   "outputs": [],
   "source": [
    "test['num_1_greater'] = n1"
   ]
  },
  {
   "cell_type": "code",
   "execution_count": 34,
   "metadata": {},
   "outputs": [
    {
     "data": {
      "text/plain": [
       "((348978, 46), (523466, 45))"
      ]
     },
     "execution_count": 34,
     "metadata": {},
     "output_type": "execute_result"
    }
   ],
   "source": [
    "train.shape , test.shape"
   ]
  },
  {
   "cell_type": "code",
   "execution_count": 149,
   "metadata": {},
   "outputs": [
    {
     "data": {
      "text/plain": [
       "(0, 1)"
      ]
     },
     "execution_count": 149,
     "metadata": {},
     "output_type": "execute_result"
    },
    {
     "data": {
      "image/png": "[encoded data removed]",
      "text/plain": [
       "<matplotlib.figure.Figure at 0x117c5748>"
      ]
     },
     "metadata": {},
     "output_type": "display_data"
    },
    {
     "data": {
      "image/png": "[encoded data removed]",
      "text/plain": [
       "<matplotlib.figure.Figure at 0x117c58d0>"
      ]
     },
     "metadata": {},
     "output_type": "display_data"
    }
   ],
   "source": [
    "hist_it2(train['num_var_2'])\n",
    "plt.ylim((0,1))\n",
    "plt.xlim((0,1))\n",
    "\n",
    "hist_it3(train['num_var_2'])\n",
    "plt.ylim((0,1))\n",
    "plt.xlim((0,1))"
   ]
  },
  {
   "cell_type": "code",
   "execution_count": 153,
   "metadata": {},
   "outputs": [
    {
     "data": {
      "text/plain": [
       "(0, 0.2)"
      ]
     },
     "execution_count": 153,
     "metadata": {},
     "output_type": "execute_result"
    },
    {
     "data": {
      "image/png": "[encoded data removed]",
      "text/plain": [
       "<matplotlib.figure.Figure at 0x132267b8>"
      ]
     },
     "metadata": {},
     "output_type": "display_data"
    },
    {
     "data": {
      "image/png": "[encoded data removed]",
      "text/plain": [
       "<matplotlib.figure.Figure at 0x132267f0>"
      ]
     },
     "metadata": {},
     "output_type": "display_data"
    }
   ],
   "source": [
    "hist_it2(train['num_var_4'])\n",
    "plt.ylim((0,1))\n",
    "plt.xlim((0,.2))\n",
    "\n",
    "hist_it3(train['num_var_4'])\n",
    "plt.ylim((0,1))\n",
    "plt.xlim((0,.2))"
   ]
  },
  {
   "cell_type": "code",
   "execution_count": 38,
   "metadata": {},
   "outputs": [],
   "source": [
    "n4 = []\n",
    "for i in train['num_var_4']:\n",
    "    if i > .050:\n",
    "        n4.append(1)\n",
    "    else:\n",
    "        n4.append(0)"
   ]
  },
  {
   "cell_type": "code",
   "execution_count": 40,
   "metadata": {},
   "outputs": [],
   "source": [
    "train['num_4_greater'] = n4"
   ]
  },
  {
   "cell_type": "code",
   "execution_count": 41,
   "metadata": {
    "collapsed": true
   },
   "outputs": [],
   "source": [
    "n4 = []\n",
    "for i in test['num_var_4']:\n",
    "    if i > .050:\n",
    "        n4.append(1)\n",
    "    else:\n",
    "        n4.append(0)"
   ]
  },
  {
   "cell_type": "code",
   "execution_count": 42,
   "metadata": {
    "collapsed": true
   },
   "outputs": [],
   "source": [
    "test['num_4_greater'] = n4"
   ]
  },
  {
   "cell_type": "code",
   "execution_count": 56,
   "metadata": {},
   "outputs": [
    {
     "data": {
      "text/plain": [
       "(0, 0.0044)"
      ]
     },
     "execution_count": 56,
     "metadata": {},
     "output_type": "execute_result"
    },
    {
     "data": {
      "image/png": "[encoded data removed]",
      "text/plain": [
       "<matplotlib.figure.Figure at 0x19e2bf28>"
      ]
     },
     "metadata": {},
     "output_type": "display_data"
    },
    {
     "data": {
      "image/png": "[encoded data removed]",
      "text/plain": [
       "<matplotlib.figure.Figure at 0x19e2bef0>"
      ]
     },
     "metadata": {},
     "output_type": "display_data"
    }
   ],
   "source": [
    "hist_it2(train['num_var_5'])\n",
    "plt.ylim((0,1))\n",
    "plt.xlim((0,.0044))\n",
    "\n",
    "hist_it3(train['num_var_5'])\n",
    "plt.ylim((0,1))\n",
    "plt.xlim((0,.0044))"
   ]
  },
  {
   "cell_type": "code",
   "execution_count": 59,
   "metadata": {},
   "outputs": [],
   "source": [
    "n5 = []\n",
    "for i in train['num_var_5']:\n",
    "    if i > .0044:\n",
    "        n5.append(1)\n",
    "    else:\n",
    "        n5.append(0)"
   ]
  },
  {
   "cell_type": "code",
   "execution_count": 61,
   "metadata": {},
   "outputs": [],
   "source": [
    "train['num_5_greater'] = n5"
   ]
  },
  {
   "cell_type": "code",
   "execution_count": 62,
   "metadata": {
    "collapsed": true
   },
   "outputs": [],
   "source": [
    "n5 = []\n",
    "for i in test['num_var_5']:\n",
    "    if i > .0044:\n",
    "        n5.append(1)\n",
    "    else:\n",
    "        n5.append(0)"
   ]
  },
  {
   "cell_type": "code",
   "execution_count": 63,
   "metadata": {
    "collapsed": true
   },
   "outputs": [],
   "source": [
    "test['num_5_greater'] = n5"
   ]
  },
  {
   "cell_type": "code",
   "execution_count": 72,
   "metadata": {},
   "outputs": [
    {
     "data": {
      "text/plain": [
       "(0, 0.005)"
      ]
     },
     "execution_count": 72,
     "metadata": {},
     "output_type": "execute_result"
    },
    {
     "data": {
      "image/png": "[encoded data removed]",
      "text/plain": [
       "<matplotlib.figure.Figure at 0x1710ca90>"
      ]
     },
     "metadata": {},
     "output_type": "display_data"
    },
    {
     "data": {
      "image/png": "[encoded data removed]",
      "text/plain": [
       "<matplotlib.figure.Figure at 0xa7545c0>"
      ]
     },
     "metadata": {},
     "output_type": "display_data"
    }
   ],
   "source": [
    "hist_it2(train['num_var_6'])\n",
    "plt.ylim((0,1))\n",
    "plt.xlim((0,.0047))\n",
    "\n",
    "hist_it3(train['num_var_6'])\n",
    "plt.ylim((0,1))\n",
    "plt.xlim((0,.005))"
   ]
  },
  {
   "cell_type": "code",
   "execution_count": 75,
   "metadata": {
    "collapsed": true
   },
   "outputs": [],
   "source": [
    "n6 = []\n",
    "for i in train['num_var_6']:\n",
    "    if i > .0047:\n",
    "        n6.append(1)\n",
    "    else:\n",
    "        n6.append(0)"
   ]
  },
  {
   "cell_type": "code",
   "execution_count": 76,
   "metadata": {},
   "outputs": [],
   "source": [
    "train['num_6_greater'] = n6"
   ]
  },
  {
   "cell_type": "code",
   "execution_count": 77,
   "metadata": {
    "collapsed": true
   },
   "outputs": [],
   "source": [
    "n6 = []\n",
    "for i in test['num_var_6']:\n",
    "    if i > .0047:\n",
    "        n6.append(1)\n",
    "    else:\n",
    "        n6.append(0)"
   ]
  },
  {
   "cell_type": "code",
   "execution_count": 78,
   "metadata": {
    "collapsed": true
   },
   "outputs": [],
   "source": [
    "test['num_6_greater'] = n6"
   ]
  },
  {
   "cell_type": "code",
   "execution_count": 82,
   "metadata": {},
   "outputs": [
    {
     "data": {
      "text/plain": [
       "(0, 0.01)"
      ]
     },
     "execution_count": 82,
     "metadata": {},
     "output_type": "execute_result"
    },
    {
     "data": {
      "image/png": "[encoded data removed]",
      "text/plain": [
       "<matplotlib.figure.Figure at 0x1597eef0>"
      ]
     },
     "metadata": {},
     "output_type": "display_data"
    },
    {
     "data": {
      "image/png": "[encoded data removed]",
      "text/plain": [
       "<matplotlib.figure.Figure at 0x1cbd8f28>"
      ]
     },
     "metadata": {},
     "output_type": "display_data"
    }
   ],
   "source": [
    "hist_it2(train['num_var_6'])\n",
    "plt.ylim((0,1))\n",
    "plt.xlim((0,.01))\n",
    "\n",
    "hist_it3(train['num_var_6'])\n",
    "plt.ylim((0,1))\n",
    "plt.xlim((0,.01))"
   ]
  },
  {
   "cell_type": "code",
   "execution_count": 83,
   "metadata": {
    "collapsed": true
   },
   "outputs": [],
   "source": [
    "n7 = []\n",
    "for i in train['num_var_7']:\n",
    "    if i > .0047:\n",
    "        n7.append(1)\n",
    "    else:\n",
    "        n7.append(0)"
   ]
  },
  {
   "cell_type": "code",
   "execution_count": 84,
   "metadata": {
    "collapsed": true
   },
   "outputs": [],
   "source": [
    "train['num_7_greater'] = n7"
   ]
  },
  {
   "cell_type": "code",
   "execution_count": 85,
   "metadata": {
    "collapsed": true
   },
   "outputs": [],
   "source": [
    "n7 = []\n",
    "for i in test['num_var_7']:\n",
    "    if i > .0047:\n",
    "        n7.append(1)\n",
    "    else:\n",
    "        n7.append(0)"
   ]
  },
  {
   "cell_type": "code",
   "execution_count": 86,
   "metadata": {
    "collapsed": true
   },
   "outputs": [],
   "source": [
    "test['num_7_greater'] = n7"
   ]
  },
  {
   "cell_type": "code",
   "execution_count": 87,
   "metadata": {},
   "outputs": [
    {
     "data": {
      "text/plain": [
       "((348978, 50), (523466, 49))"
      ]
     },
     "execution_count": 87,
     "metadata": {},
     "output_type": "execute_result"
    }
   ],
   "source": [
    "train.shape , test.shape"
   ]
  },
  {
   "cell_type": "code",
   "execution_count": 111,
   "metadata": {},
   "outputs": [],
   "source": [
    "X = train.drop('target',axis=1)\n",
    "y = train['target']"
   ]
  },
  {
   "cell_type": "code",
   "execution_count": 112,
   "metadata": {
    "collapsed": true
   },
   "outputs": [],
   "source": [
    "from sklearn.model_selection import StratifiedKFold"
   ]
  },
  {
   "cell_type": "code",
   "execution_count": 143,
   "metadata": {},
   "outputs": [],
   "source": [
    "skf = StratifiedKFold(n_splits=5, random_state=43)\n"
   ]
  },
  {
   "cell_type": "code",
   "execution_count": 114,
   "metadata": {
    "collapsed": true
   },
   "outputs": [],
   "source": [
    "xgb_model = xgb.XGBClassifier()"
   ]
  },
  {
   "cell_type": "code",
   "execution_count": 169,
   "metadata": {
    "collapsed": true
   },
   "outputs": [],
   "source": [
    "X_tr , X_te , y_tr , y_te = train_test_split(X,y,test_size=0.5)"
   ]
  },
  {
   "cell_type": "code",
   "execution_count": 172,
   "metadata": {},
   "outputs": [],
   "source": [
    "para ={\n",
    "    'colsample_bytree': 0.8,\n",
    "    'learning_rate': 0.05,\n",
    "    'max_depth': 25,\n",
    "    'min_child_weight': 3,\n",
    "    'n_estimators': 200,\n",
    "    'n_jobs': -1,\n",
    "    'objective': 'binary:logistic',\n",
    "    'seed': 1337,\n",
    "    'silent': 0,\n",
    "    'subsample': 0.8,\n",
    "    'eval_metric' : 'auc' \n",
    "    }\n",
    "\n"
   ]
  },
  {
   "cell_type": "code",
   "execution_count": 173,
   "metadata": {},
   "outputs": [
    {
     "name": "stdout",
     "output_type": "stream",
     "text": [
      "0.709849033131\n"
     ]
    }
   ],
   "source": [
    "dtrain = xgb.DMatrix(X_tr, label=y_tr)\n",
    "dtest = xgb.DMatrix(X_te)\n",
    "bst = xgb.train(para, dtrain,n_rounds)\n",
    "pred = (bst.predict(dtest) > .35).astype('int')\n",
    "print roc_auc_score(y_te, pred)"
   ]
  },
  {
   "cell_type": "code",
   "execution_count": 174,
   "metadata": {
    "collapsed": true
   },
   "outputs": [],
   "source": [
    "train2 = X_te.copy()"
   ]
  },
  {
   "cell_type": "code",
   "execution_count": 175,
   "metadata": {
    "collapsed": true
   },
   "outputs": [],
   "source": [
    "train2['xgb'] = pred"
   ]
  },
  {
   "cell_type": "code",
   "execution_count": null,
   "metadata": {
    "collapsed": true
   },
   "outputs": [],
   "source": []
  },
  {
   "cell_type": "code",
   "execution_count": null,
   "metadata": {
    "collapsed": true
   },
   "outputs": [],
   "source": []
  },
  {
   "cell_type": "code",
   "execution_count": null,
   "metadata": {
    "collapsed": true
   },
   "outputs": [],
   "source": []
  },
  {
   "cell_type": "code",
   "execution_count": null,
   "metadata": {
    "collapsed": true
   },
   "outputs": [],
   "source": []
  },
  {
   "cell_type": "code",
   "execution_count": null,
   "metadata": {
    "collapsed": true
   },
   "outputs": [],
   "source": []
  },
  {
   "cell_type": "code",
   "execution_count": null,
   "metadata": {
    "collapsed": true
   },
   "outputs": [],
   "source": []
  },
  {
   "cell_type": "code",
   "execution_count": 116,
   "metadata": {
    "collapsed": true
   },
   "outputs": [],
   "source": [
    "n_rounds=15"
   ]
  },
  {
   "cell_type": "code",
   "execution_count": 117,
   "metadata": {
    "collapsed": true
   },
   "outputs": [],
   "source": [
    "from sklearn.metrics import roc_auc_score"
   ]
  },
  {
   "cell_type": "code",
   "execution_count": null,
   "metadata": {
    "collapsed": true
   },
   "outputs": [],
   "source": []
  },
  {
   "cell_type": "code",
   "execution_count": 145,
   "metadata": {},
   "outputs": [
    {
     "name": "stdout",
     "output_type": "stream",
     "text": [
      "0.714311011762\n",
      "0.712761481225\n",
      "0.714302739876\n",
      "0.712885089187\n",
      "0.707271970951\n"
     ]
    }
   ],
   "source": [
    "for train_index, test_index in skf.split(X, y):\n",
    "    X_train = X.loc[train_index]\n",
    "    X_test = X.loc[test_index]\n",
    "    y_train = y[train_index]\n",
    "    y_test = y[test_index]\n",
    "    dtrain = xgb.DMatrix(X_train, label=y_train)\n",
    "    dtest = xgb.DMatrix(X_test)\n",
    "    bst = xgb.train(para, dtrain,n_rounds)\n",
    "    pred = (bst.predict(dtest) > .35).astype('int')\n",
    "    print roc_auc_score(y_test, pred)\n",
    "    "
   ]
  },
  {
   "cell_type": "code",
   "execution_count": 160,
   "metadata": {},
   "outputs": [
    {
     "data": {
      "text/plain": [
       "<matplotlib.axes._subplots.AxesSubplot at 0x121f9208>"
      ]
     },
     "execution_count": 160,
     "metadata": {},
     "output_type": "execute_result"
    },
    {
     "data": {
      "image/png": "[encoded data removed]",
      "text/plain": [
       "<matplotlib.figure.Figure at 0x13c9e8d0>"
      ]
     },
     "metadata": {},
     "output_type": "display_data"
    }
   ],
   "source": [
    " xgb.plot_importance(bst, importance_type='gain', xlabel='Gain')"
   ]
  },
  {
   "cell_type": "code",
   "execution_count": 162,
   "metadata": {},
   "outputs": [
    {
     "data": {
      "text/plain": [
       "Counter({0: 65436, 1: 4360})"
      ]
     },
     "execution_count": 162,
     "metadata": {},
     "output_type": "execute_result"
    }
   ],
   "source": []
  },
  {
   "cell_type": "code",
   "execution_count": null,
   "metadata": {
    "collapsed": true
   },
   "outputs": [],
   "source": []
  },
  {
   "cell_type": "code",
   "execution_count": null,
   "metadata": {
    "collapsed": true
   },
   "outputs": [],
   "source": []
  },
  {
   "cell_type": "code",
   "execution_count": null,
   "metadata": {
    "collapsed": true
   },
   "outputs": [],
   "source": []
  },
  {
   "cell_type": "code",
   "execution_count": null,
   "metadata": {
    "collapsed": true
   },
   "outputs": [],
   "source": []
  },
  {
   "cell_type": "code",
   "execution_count": null,
   "metadata": {
    "collapsed": true
   },
   "outputs": [],
   "source": []
  },
  {
   "cell_type": "code",
   "execution_count": null,
   "metadata": {
    "collapsed": true
   },
   "outputs": [],
   "source": []
  },
  {
   "cell_type": "code",
   "execution_count": null,
   "metadata": {
    "collapsed": true
   },
   "outputs": [],
   "source": []
  },
  {
   "cell_type": "code",
   "execution_count": null,
   "metadata": {
    "collapsed": true
   },
   "outputs": [],
   "source": []
  },
  {
   "cell_type": "code",
   "execution_count": 163,
   "metadata": {
    "collapsed": true
   },
   "outputs": [
    {
     "ename": "ValueError",
     "evalue": "Found input variables with inconsistent numbers of samples: [348978, 523466]",
     "output_type": "error",
     "traceback": [
      "\u001b[1;31m---------------------------------------------------------------------------\u001b[0m",
      "\u001b[1;31mValueError\u001b[0m                                Traceback (most recent call last)",
      "\u001b[1;32m<ipython-input-163-82cb36b213aa>\u001b[0m in \u001b[0;36m<module>\u001b[1;34m()\u001b[0m\n\u001b[0;32m      3\u001b[0m \u001b[0mbst\u001b[0m \u001b[1;33m=\u001b[0m \u001b[0mxgb\u001b[0m\u001b[1;33m.\u001b[0m\u001b[0mtrain\u001b[0m\u001b[1;33m(\u001b[0m\u001b[0mpara\u001b[0m\u001b[1;33m,\u001b[0m \u001b[0mdtrain\u001b[0m\u001b[1;33m,\u001b[0m\u001b[0mn_rounds\u001b[0m\u001b[1;33m)\u001b[0m\u001b[1;33m\u001b[0m\u001b[0m\n\u001b[0;32m      4\u001b[0m \u001b[0mpred\u001b[0m \u001b[1;33m=\u001b[0m \u001b[1;33m(\u001b[0m\u001b[0mbst\u001b[0m\u001b[1;33m.\u001b[0m\u001b[0mpredict\u001b[0m\u001b[1;33m(\u001b[0m\u001b[0mdtest\u001b[0m\u001b[1;33m)\u001b[0m \u001b[1;33m>\u001b[0m \u001b[1;36m.35\u001b[0m\u001b[1;33m)\u001b[0m\u001b[1;33m.\u001b[0m\u001b[0mastype\u001b[0m\u001b[1;33m(\u001b[0m\u001b[1;34m'int'\u001b[0m\u001b[1;33m)\u001b[0m\u001b[1;33m\u001b[0m\u001b[0m\n\u001b[1;32m----> 5\u001b[1;33m \u001b[1;32mprint\u001b[0m \u001b[0mroc_auc_score\u001b[0m\u001b[1;33m(\u001b[0m\u001b[0my\u001b[0m\u001b[1;33m,\u001b[0m \u001b[0mpred\u001b[0m\u001b[1;33m)\u001b[0m\u001b[1;33m\u001b[0m\u001b[0m\n\u001b[0m",
      "\u001b[1;32mC:\\ProgramData\\Anaconda2\\lib\\site-packages\\sklearn\\metrics\\ranking.pyc\u001b[0m in \u001b[0;36mroc_auc_score\u001b[1;34m(y_true, y_score, average, sample_weight)\u001b[0m\n\u001b[0;32m    258\u001b[0m     return _average_binary_score(\n\u001b[0;32m    259\u001b[0m         \u001b[0m_binary_roc_auc_score\u001b[0m\u001b[1;33m,\u001b[0m \u001b[0my_true\u001b[0m\u001b[1;33m,\u001b[0m \u001b[0my_score\u001b[0m\u001b[1;33m,\u001b[0m \u001b[0maverage\u001b[0m\u001b[1;33m,\u001b[0m\u001b[1;33m\u001b[0m\u001b[0m\n\u001b[1;32m--> 260\u001b[1;33m         sample_weight=sample_weight)\n\u001b[0m\u001b[0;32m    261\u001b[0m \u001b[1;33m\u001b[0m\u001b[0m\n\u001b[0;32m    262\u001b[0m \u001b[1;33m\u001b[0m\u001b[0m\n",
      "\u001b[1;32mC:\\ProgramData\\Anaconda2\\lib\\site-packages\\sklearn\\metrics\\base.pyc\u001b[0m in \u001b[0;36m_average_binary_score\u001b[1;34m(binary_metric, y_true, y_score, average, sample_weight)\u001b[0m\n\u001b[0;32m     82\u001b[0m \u001b[1;33m\u001b[0m\u001b[0m\n\u001b[0;32m     83\u001b[0m     \u001b[1;32mif\u001b[0m \u001b[0my_type\u001b[0m \u001b[1;33m==\u001b[0m \u001b[1;34m\"binary\"\u001b[0m\u001b[1;33m:\u001b[0m\u001b[1;33m\u001b[0m\u001b[0m\n\u001b[1;32m---> 84\u001b[1;33m         \u001b[1;32mreturn\u001b[0m \u001b[0mbinary_metric\u001b[0m\u001b[1;33m(\u001b[0m\u001b[0my_true\u001b[0m\u001b[1;33m,\u001b[0m \u001b[0my_score\u001b[0m\u001b[1;33m,\u001b[0m \u001b[0msample_weight\u001b[0m\u001b[1;33m=\u001b[0m\u001b[0msample_weight\u001b[0m\u001b[1;33m)\u001b[0m\u001b[1;33m\u001b[0m\u001b[0m\n\u001b[0m\u001b[0;32m     85\u001b[0m \u001b[1;33m\u001b[0m\u001b[0m\n\u001b[0;32m     86\u001b[0m     \u001b[0mcheck_consistent_length\u001b[0m\u001b[1;33m(\u001b[0m\u001b[0my_true\u001b[0m\u001b[1;33m,\u001b[0m \u001b[0my_score\u001b[0m\u001b[1;33m,\u001b[0m \u001b[0msample_weight\u001b[0m\u001b[1;33m)\u001b[0m\u001b[1;33m\u001b[0m\u001b[0m\n",
      "\u001b[1;32mC:\\ProgramData\\Anaconda2\\lib\\site-packages\\sklearn\\metrics\\ranking.pyc\u001b[0m in \u001b[0;36m_binary_roc_auc_score\u001b[1;34m(y_true, y_score, sample_weight)\u001b[0m\n\u001b[0;32m    253\u001b[0m \u001b[1;33m\u001b[0m\u001b[0m\n\u001b[0;32m    254\u001b[0m         fpr, tpr, tresholds = roc_curve(y_true, y_score,\n\u001b[1;32m--> 255\u001b[1;33m                                         sample_weight=sample_weight)\n\u001b[0m\u001b[0;32m    256\u001b[0m         \u001b[1;32mreturn\u001b[0m \u001b[0mauc\u001b[0m\u001b[1;33m(\u001b[0m\u001b[0mfpr\u001b[0m\u001b[1;33m,\u001b[0m \u001b[0mtpr\u001b[0m\u001b[1;33m,\u001b[0m \u001b[0mreorder\u001b[0m\u001b[1;33m=\u001b[0m\u001b[0mTrue\u001b[0m\u001b[1;33m)\u001b[0m\u001b[1;33m\u001b[0m\u001b[0m\n\u001b[0;32m    257\u001b[0m \u001b[1;33m\u001b[0m\u001b[0m\n",
      "\u001b[1;32mC:\\ProgramData\\Anaconda2\\lib\\site-packages\\sklearn\\metrics\\ranking.pyc\u001b[0m in \u001b[0;36mroc_curve\u001b[1;34m(y_true, y_score, pos_label, sample_weight, drop_intermediate)\u001b[0m\n\u001b[0;32m    503\u001b[0m     \"\"\"\n\u001b[0;32m    504\u001b[0m     fps, tps, thresholds = _binary_clf_curve(\n\u001b[1;32m--> 505\u001b[1;33m         y_true, y_score, pos_label=pos_label, sample_weight=sample_weight)\n\u001b[0m\u001b[0;32m    506\u001b[0m \u001b[1;33m\u001b[0m\u001b[0m\n\u001b[0;32m    507\u001b[0m     \u001b[1;31m# Attempt to drop thresholds corresponding to points in between and\u001b[0m\u001b[1;33m\u001b[0m\u001b[1;33m\u001b[0m\u001b[0m\n",
      "\u001b[1;32mC:\\ProgramData\\Anaconda2\\lib\\site-packages\\sklearn\\metrics\\ranking.pyc\u001b[0m in \u001b[0;36m_binary_clf_curve\u001b[1;34m(y_true, y_score, pos_label, sample_weight)\u001b[0m\n\u001b[0;32m    295\u001b[0m         \u001b[0mDecreasing\u001b[0m \u001b[0mscore\u001b[0m \u001b[0mvalues\u001b[0m\u001b[1;33m.\u001b[0m\u001b[1;33m\u001b[0m\u001b[0m\n\u001b[0;32m    296\u001b[0m     \"\"\"\n\u001b[1;32m--> 297\u001b[1;33m     \u001b[0mcheck_consistent_length\u001b[0m\u001b[1;33m(\u001b[0m\u001b[0my_true\u001b[0m\u001b[1;33m,\u001b[0m \u001b[0my_score\u001b[0m\u001b[1;33m)\u001b[0m\u001b[1;33m\u001b[0m\u001b[0m\n\u001b[0m\u001b[0;32m    298\u001b[0m     \u001b[0my_true\u001b[0m \u001b[1;33m=\u001b[0m \u001b[0mcolumn_or_1d\u001b[0m\u001b[1;33m(\u001b[0m\u001b[0my_true\u001b[0m\u001b[1;33m)\u001b[0m\u001b[1;33m\u001b[0m\u001b[0m\n\u001b[0;32m    299\u001b[0m     \u001b[0my_score\u001b[0m \u001b[1;33m=\u001b[0m \u001b[0mcolumn_or_1d\u001b[0m\u001b[1;33m(\u001b[0m\u001b[0my_score\u001b[0m\u001b[1;33m)\u001b[0m\u001b[1;33m\u001b[0m\u001b[0m\n",
      "\u001b[1;32mC:\\ProgramData\\Anaconda2\\lib\\site-packages\\sklearn\\utils\\validation.pyc\u001b[0m in \u001b[0;36mcheck_consistent_length\u001b[1;34m(*arrays)\u001b[0m\n\u001b[0;32m    179\u001b[0m     \u001b[1;32mif\u001b[0m \u001b[0mlen\u001b[0m\u001b[1;33m(\u001b[0m\u001b[0muniques\u001b[0m\u001b[1;33m)\u001b[0m \u001b[1;33m>\u001b[0m \u001b[1;36m1\u001b[0m\u001b[1;33m:\u001b[0m\u001b[1;33m\u001b[0m\u001b[0m\n\u001b[0;32m    180\u001b[0m         raise ValueError(\"Found input variables with inconsistent numbers of\"\n\u001b[1;32m--> 181\u001b[1;33m                          \" samples: %r\" % [int(l) for l in lengths])\n\u001b[0m\u001b[0;32m    182\u001b[0m \u001b[1;33m\u001b[0m\u001b[0m\n\u001b[0;32m    183\u001b[0m \u001b[1;33m\u001b[0m\u001b[0m\n",
      "\u001b[1;31mValueError\u001b[0m: Found input variables with inconsistent numbers of samples: [348978, 523466]"
     ]
    }
   ],
   "source": [
    "dtrain = xgb.DMatrix(X, label=y)\n",
    "dtest = xgb.DMatrix(test)\n",
    "bst = xgb.train(para, dtrain,n_rounds)\n",
    "pred = (bst.predict(dtest) > .35).astype('int')\n"
   ]
  },
  {
   "cell_type": "code",
   "execution_count": 164,
   "metadata": {},
   "outputs": [
    {
     "data": {
      "text/plain": [
       "Counter({0: 489358, 1: 34108})"
      ]
     },
     "execution_count": 164,
     "metadata": {},
     "output_type": "execute_result"
    }
   ],
   "source": [
    "Counter(pred)"
   ]
  },
  {
   "cell_type": "code",
   "execution_count": 165,
   "metadata": {
    "collapsed": true
   },
   "outputs": [],
   "source": [
    "ans = test.copy()"
   ]
  },
  {
   "cell_type": "code",
   "execution_count": 166,
   "metadata": {
    "collapsed": true
   },
   "outputs": [],
   "source": [
    "ans['transaction_id'] = test_ID\n",
    "ans['target'] = pred"
   ]
  },
  {
   "cell_type": "code",
   "execution_count": 167,
   "metadata": {
    "collapsed": true
   },
   "outputs": [],
   "source": [
    "ans =ans[['transaction_id','target']]"
   ]
  },
  {
   "cell_type": "code",
   "execution_count": 168,
   "metadata": {
    "collapsed": true
   },
   "outputs": [],
   "source": [
    "ans.to_csv('submit.csv',index=False)"
   ]
  },
  {
   "cell_type": "code",
   "execution_count": null,
   "metadata": {
    "collapsed": true
   },
   "outputs": [],
   "source": []
  }
 ],
 "metadata": {
  "kernelspec": {
   "display_name": "Python 2",
   "language": "python",
   "name": "python2"
  },
  "language_info": {
   "codemirror_mode": {
    "name": "ipython",
    "version": 2
   },
   "file_extension": ".py",
   "mimetype": "text/x-python",
   "name": "python",
   "nbconvert_exporter": "python",
   "pygments_lexer": "ipython2",
   "version": "2.7.12"
  }
 },
 "nbformat": 4,
 "nbformat_minor": 2
}
