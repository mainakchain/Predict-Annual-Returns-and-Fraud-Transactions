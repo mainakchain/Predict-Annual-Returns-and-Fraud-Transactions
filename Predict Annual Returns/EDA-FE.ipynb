{
 "cells": [
  {
   "cell_type": "code",
   "execution_count": 1,
   "metadata": {},
   "outputs": [
    {
     "name": "stderr",
     "output_type": "stream",
     "text": [
      "C:\\ProgramData\\Anaconda2\\lib\\site-packages\\sklearn\\cross_validation.py:44: DeprecationWarning: This module was deprecated in version 0.18 in favor of the model_selection module into which all the refactored classes and functions are moved. Also note that the interface of the new CV iterators are different from that of this module. This module will be removed in 0.20.\n",
      "  \"This module will be removed in 0.20.\", DeprecationWarning)\n",
      "C:\\ProgramData\\Anaconda2\\lib\\site-packages\\sklearn\\grid_search.py:43: DeprecationWarning: This module was deprecated in version 0.18 in favor of the model_selection module into which all the refactored classes and functions are moved. This module will be removed in 0.20.\n",
      "  DeprecationWarning)\n"
     ]
    }
   ],
   "source": [
    "# importing useful libs on the go\n",
    "import pandas as pd\n",
    "import matplotlib.pyplot as plt\n",
    "import numpy as np\n",
    "import seaborn as sns\n",
    "import sklearn\n",
    "from sklearn.preprocessing import LabelEncoder\n",
    "from sklearn.preprocessing import StandardScaler\n",
    "from sklearn.cross_validation import KFold\n",
    "import math\n",
    "from sklearn.grid_search import GridSearchCV\n",
    "from sklearn.cross_validation import StratifiedKFold\n",
    "from sklearn import cross_validation\n",
    "from sklearn import tree\n",
    "from sklearn import svm\n",
    "from sklearn import ensemble\n",
    "from sklearn import neighbors\n",
    "from sklearn import linear_model\n",
    "from sklearn import metrics\n",
    "from sklearn import preprocessing\n",
    "from sklearn.model_selection import cross_val_score\n",
    "from sklearn.model_selection import train_test_split\n",
    "import xgboost as xgb\n",
    "import matplotlib.pyplot as plt\n",
    "from sklearn.metrics import mean_absolute_error\n",
    "import collections\n",
    "from sklearn.grid_search import GridSearchCV\n",
    "\n",
    "plt.style.use('fivethirtyeight') # Good looking plots\n",
    "pd.set_option('display.max_columns', None) # Display any number of columns\n",
    "\n",
    "% matplotlib inline"
   ]
  },
  {
   "cell_type": "code",
   "execution_count": 72,
   "metadata": {
    "collapsed": true
   },
   "outputs": [],
   "source": [
    "train = pd.read_csv('train.csv')\n",
    "test = pd.read_csv('test.csv')"
   ]
  },
  {
   "cell_type": "code",
   "execution_count": 73,
   "metadata": {},
   "outputs": [
    {
     "data": {
      "text/plain": [
       "((9366, 18), (4801, 17))"
      ]
     },
     "execution_count": 73,
     "metadata": {},
     "output_type": "execute_result"
    }
   ],
   "source": [
    "train.shape , test.shape"
   ]
  },
  {
   "cell_type": "code",
   "execution_count": 74,
   "metadata": {},
   "outputs": [
    {
     "data": {
      "text/html": [
       "<div>\n",
       "<style>\n",
       "    .dataframe thead tr:only-child th {\n",
       "        text-align: right;\n",
       "    }\n",
       "\n",
       "    .dataframe thead th {\n",
       "        text-align: left;\n",
       "    }\n",
       "\n",
       "    .dataframe tbody tr th {\n",
       "        vertical-align: top;\n",
       "    }\n",
       "</style>\n",
       "<table border=\"1\" class=\"dataframe\">\n",
       "  <thead>\n",
       "    <tr style=\"text-align: right;\">\n",
       "      <th></th>\n",
       "      <th>portfolio_id</th>\n",
       "      <th>desk_id</th>\n",
       "      <th>office_id</th>\n",
       "      <th>pf_category</th>\n",
       "      <th>start_date</th>\n",
       "      <th>sold</th>\n",
       "      <th>country_code</th>\n",
       "      <th>euribor_rate</th>\n",
       "      <th>currency</th>\n",
       "      <th>libor_rate</th>\n",
       "      <th>bought</th>\n",
       "      <th>creation_date</th>\n",
       "      <th>indicator_code</th>\n",
       "      <th>sell_date</th>\n",
       "      <th>type</th>\n",
       "      <th>hedge_value</th>\n",
       "      <th>status</th>\n",
       "      <th>return</th>\n",
       "    </tr>\n",
       "  </thead>\n",
       "  <tbody>\n",
       "    <tr>\n",
       "      <th>0</th>\n",
       "      <td>PF00001002</td>\n",
       "      <td>DSK00001001</td>\n",
       "      <td>OFF00001002</td>\n",
       "      <td>B</td>\n",
       "      <td>20040720</td>\n",
       "      <td>110000000.0</td>\n",
       "      <td>T</td>\n",
       "      <td>0.02074</td>\n",
       "      <td>USD</td>\n",
       "      <td>2.332216</td>\n",
       "      <td>1.098097e+08</td>\n",
       "      <td>20040720</td>\n",
       "      <td>NaN</td>\n",
       "      <td>20040812</td>\n",
       "      <td>B</td>\n",
       "      <td>NaN</td>\n",
       "      <td>NaN</td>\n",
       "      <td>0.02496</td>\n",
       "    </tr>\n",
       "    <tr>\n",
       "      <th>1</th>\n",
       "      <td>PF00001003</td>\n",
       "      <td>DSK00001002</td>\n",
       "      <td>OFF00001001</td>\n",
       "      <td>A</td>\n",
       "      <td>20040709</td>\n",
       "      <td>176671000.0</td>\n",
       "      <td>N</td>\n",
       "      <td>0.02074</td>\n",
       "      <td>GBP</td>\n",
       "      <td>5.269617</td>\n",
       "      <td>1.760084e+08</td>\n",
       "      <td>20040723</td>\n",
       "      <td>NaN</td>\n",
       "      <td>20040812</td>\n",
       "      <td>C</td>\n",
       "      <td>NaN</td>\n",
       "      <td>NaN</td>\n",
       "      <td>0.05496</td>\n",
       "    </tr>\n",
       "    <tr>\n",
       "      <th>2</th>\n",
       "      <td>PF00001005</td>\n",
       "      <td>DSK00001004</td>\n",
       "      <td>OFF00001001</td>\n",
       "      <td>A</td>\n",
       "      <td>20040723</td>\n",
       "      <td>56474000.0</td>\n",
       "      <td>T</td>\n",
       "      <td>0.02074</td>\n",
       "      <td>USD</td>\n",
       "      <td>2.332216</td>\n",
       "      <td>5.637953e+07</td>\n",
       "      <td>20040723</td>\n",
       "      <td>NaN</td>\n",
       "      <td>20040817</td>\n",
       "      <td>A</td>\n",
       "      <td>NaN</td>\n",
       "      <td>NaN</td>\n",
       "      <td>0.02496</td>\n",
       "    </tr>\n",
       "    <tr>\n",
       "      <th>3</th>\n",
       "      <td>PF00001006</td>\n",
       "      <td>DSK00001005</td>\n",
       "      <td>OFF00001001</td>\n",
       "      <td>A</td>\n",
       "      <td>20040609</td>\n",
       "      <td>164813000.0</td>\n",
       "      <td>T</td>\n",
       "      <td>0.02074</td>\n",
       "      <td>USD</td>\n",
       "      <td>2.332216</td>\n",
       "      <td>1.645088e+08</td>\n",
       "      <td>20040723</td>\n",
       "      <td>NaN</td>\n",
       "      <td>20040713</td>\n",
       "      <td>A</td>\n",
       "      <td>NaN</td>\n",
       "      <td>NaN</td>\n",
       "      <td>0.02496</td>\n",
       "    </tr>\n",
       "    <tr>\n",
       "      <th>4</th>\n",
       "      <td>PF00001007</td>\n",
       "      <td>DSK00001005</td>\n",
       "      <td>OFF00001002</td>\n",
       "      <td>B</td>\n",
       "      <td>20040609</td>\n",
       "      <td>140800000.0</td>\n",
       "      <td>T</td>\n",
       "      <td>0.02074</td>\n",
       "      <td>USD</td>\n",
       "      <td>2.332216</td>\n",
       "      <td>1.405402e+08</td>\n",
       "      <td>20040723</td>\n",
       "      <td>NaN</td>\n",
       "      <td>20040713</td>\n",
       "      <td>B</td>\n",
       "      <td>NaN</td>\n",
       "      <td>NaN</td>\n",
       "      <td>0.02496</td>\n",
       "    </tr>\n",
       "  </tbody>\n",
       "</table>\n",
       "</div>"
      ],
      "text/plain": [
       "  portfolio_id      desk_id    office_id pf_category  start_date         sold  \\\n",
       "0   PF00001002  DSK00001001  OFF00001002           B    20040720  110000000.0   \n",
       "1   PF00001003  DSK00001002  OFF00001001           A    20040709  176671000.0   \n",
       "2   PF00001005  DSK00001004  OFF00001001           A    20040723   56474000.0   \n",
       "3   PF00001006  DSK00001005  OFF00001001           A    20040609  164813000.0   \n",
       "4   PF00001007  DSK00001005  OFF00001002           B    20040609  140800000.0   \n",
       "\n",
       "  country_code  euribor_rate currency  libor_rate        bought  \\\n",
       "0            T       0.02074      USD    2.332216  1.098097e+08   \n",
       "1            N       0.02074      GBP    5.269617  1.760084e+08   \n",
       "2            T       0.02074      USD    2.332216  5.637953e+07   \n",
       "3            T       0.02074      USD    2.332216  1.645088e+08   \n",
       "4            T       0.02074      USD    2.332216  1.405402e+08   \n",
       "\n",
       "   creation_date indicator_code  sell_date type hedge_value status   return  \n",
       "0       20040720            NaN   20040812    B         NaN    NaN  0.02496  \n",
       "1       20040723            NaN   20040812    C         NaN    NaN  0.05496  \n",
       "2       20040723            NaN   20040817    A         NaN    NaN  0.02496  \n",
       "3       20040723            NaN   20040713    A         NaN    NaN  0.02496  \n",
       "4       20040723            NaN   20040713    B         NaN    NaN  0.02496  "
      ]
     },
     "execution_count": 74,
     "metadata": {},
     "output_type": "execute_result"
    }
   ],
   "source": [
    "train.head()"
   ]
  },
  {
   "cell_type": "code",
   "execution_count": 75,
   "metadata": {},
   "outputs": [
    {
     "data": {
      "text/plain": [
       "portfolio_id         0\n",
       "desk_id           3665\n",
       "office_id            0\n",
       "pf_category          0\n",
       "start_date           0\n",
       "sold                 2\n",
       "country_code         0\n",
       "euribor_rate         0\n",
       "currency             0\n",
       "libor_rate         474\n",
       "bought               2\n",
       "creation_date        0\n",
       "indicator_code    5699\n",
       "sell_date            0\n",
       "type                 0\n",
       "hedge_value       5701\n",
       "status            3084\n",
       "return               0\n",
       "dtype: int64"
      ]
     },
     "execution_count": 75,
     "metadata": {},
     "output_type": "execute_result"
    }
   ],
   "source": [
    "train.isnull().sum()"
   ]
  },
  {
   "cell_type": "code",
   "execution_count": 76,
   "metadata": {},
   "outputs": [],
   "source": [
    "train['indicator_code'].fillna('False',inplace=True)"
   ]
  },
  {
   "cell_type": "code",
   "execution_count": 77,
   "metadata": {
    "collapsed": true
   },
   "outputs": [],
   "source": [
    "test['indicator_code'].fillna('False',inplace=True)"
   ]
  },
  {
   "cell_type": "code",
   "execution_count": 78,
   "metadata": {},
   "outputs": [],
   "source": [
    "train['status'].fillna('False',inplace=True)"
   ]
  },
  {
   "cell_type": "code",
   "execution_count": 79,
   "metadata": {
    "collapsed": true
   },
   "outputs": [],
   "source": [
    "test['status'].fillna('False',inplace=True)"
   ]
  },
  {
   "cell_type": "code",
   "execution_count": 80,
   "metadata": {},
   "outputs": [
    {
     "data": {
      "text/plain": [
       "NaN            3665\n",
       "DSK00005869      10\n",
       "DSK00006011      10\n",
       "DSK00005951       9\n",
       "DSK00005724       9\n",
       "DSK00005895       9\n",
       "DSK00005754       9\n",
       "DSK00005718       9\n",
       "DSK00005789       8\n",
       "DSK00006030       8\n",
       "DSK00005905       8\n",
       "DSK00005727       8\n",
       "DSK00005475       7\n",
       "DSK00006026       7\n",
       "DSK00005803       7\n",
       "DSK00004410       7\n",
       "DSK00005469       7\n",
       "DSK00005468       7\n",
       "DSK00005975       7\n",
       "DSK00005755       7\n",
       "DSK00005733       7\n",
       "DSK00005739       7\n",
       "DSK00005938       7\n",
       "DSK00005568       7\n",
       "DSK00005637       7\n",
       "DSK00005715       7\n",
       "DSK00005900       7\n",
       "DSK00005810       7\n",
       "DSK00005678       7\n",
       "DSK00005943       7\n",
       "               ... \n",
       "DSK00002968       1\n",
       "DSK00003283       1\n",
       "DSK00002495       1\n",
       "DSK00002811       1\n",
       "DSK00002492       1\n",
       "DSK00002493       1\n",
       "DSK00002389       1\n",
       "DSK00002388       1\n",
       "DSK00002637       1\n",
       "DSK00002140       1\n",
       "DSK00002142       1\n",
       "DSK00002632       1\n",
       "DSK00002147       1\n",
       "DSK00002146       1\n",
       "DSK00002148       1\n",
       "DSK00002639       1\n",
       "DSK00002638       1\n",
       "DSK00006559       1\n",
       "DSK00001730       1\n",
       "DSK00006497       1\n",
       "DSK00005804       1\n",
       "DSK00005374       1\n",
       "DSK00005816       1\n",
       "DSK00001732       1\n",
       "DSK00003143       1\n",
       "DSK00002499       1\n",
       "DSK00002498       1\n",
       "DSK00003147       1\n",
       "DSK00003144       1\n",
       "DSK00006008       1\n",
       "Name: desk_id, Length: 3993, dtype: int64"
      ]
     },
     "execution_count": 80,
     "metadata": {},
     "output_type": "execute_result"
    }
   ],
   "source": [
    "train.desk_id.value_counts(dropna=False)"
   ]
  },
  {
   "cell_type": "code",
   "execution_count": 81,
   "metadata": {},
   "outputs": [
    {
     "data": {
      "text/plain": [
       "NaN            1948\n",
       "DSK00005682       7\n",
       "DSK00005575       6\n",
       "DSK00005643       6\n",
       "DSK00005925       6\n",
       "DSK00005840       6\n",
       "DSK00005918       6\n",
       "DSK00005657       5\n",
       "DSK00005996       5\n",
       "DSK00005653       5\n",
       "DSK00005555       5\n",
       "DSK00005970       5\n",
       "DSK00005887       5\n",
       "DSK00005736       5\n",
       "DSK00005302       5\n",
       "DSK00006033       5\n",
       "DSK00005602       5\n",
       "DSK00005817       5\n",
       "DSK00005568       5\n",
       "DSK00005909       5\n",
       "DSK00006298       5\n",
       "DSK00005938       5\n",
       "DSK00006061       4\n",
       "DSK00006339       4\n",
       "DSK00004526       4\n",
       "DSK00006258       4\n",
       "DSK00006398       4\n",
       "DSK00005803       4\n",
       "DSK00005941       4\n",
       "DSK00006423       4\n",
       "               ... \n",
       "DSK00003715       1\n",
       "DSK00004155       1\n",
       "DSK00003716       1\n",
       "DSK00004576       1\n",
       "DSK00004573       1\n",
       "DSK00004572       1\n",
       "DSK00003655       1\n",
       "DSK00003654       1\n",
       "DSK00005419       1\n",
       "DSK00003650       1\n",
       "DSK00004138       1\n",
       "DSK00003652       1\n",
       "DSK00005506       1\n",
       "DSK00001975       1\n",
       "DSK00001971       1\n",
       "DSK00004979       1\n",
       "DSK00001874       1\n",
       "DSK00001872       1\n",
       "DSK00001871       1\n",
       "DSK00001870       1\n",
       "DSK00004973       1\n",
       "DSK00005930       1\n",
       "DSK00004977       1\n",
       "DSK00004097       1\n",
       "DSK00001499       1\n",
       "DSK00004092       1\n",
       "DSK00005036       1\n",
       "DSK00004091       1\n",
       "DSK00003952       1\n",
       "DSK00001593       1\n",
       "Name: desk_id, Length: 2198, dtype: int64"
      ]
     },
     "execution_count": 81,
     "metadata": {},
     "output_type": "execute_result"
    }
   ],
   "source": [
    "test.desk_id.value_counts(dropna=False)"
   ]
  },
  {
   "cell_type": "code",
   "execution_count": 82,
   "metadata": {
    "collapsed": true
   },
   "outputs": [],
   "source": [
    "train.desk_id.fillna('NaN',inplace=True)\n",
    "test.desk_id.fillna('NaN',inplace=True)"
   ]
  },
  {
   "cell_type": "code",
   "execution_count": 83,
   "metadata": {
    "collapsed": true
   },
   "outputs": [],
   "source": [
    "l =[]\n",
    "for i in train.desk_id:\n",
    "    if i == 'NaN':\n",
    "        l.append(1)\n",
    "    else:\n",
    "        l.append(0)\n",
    "        \n",
    "train['desk_id_null'] = l"
   ]
  },
  {
   "cell_type": "code",
   "execution_count": 84,
   "metadata": {
    "collapsed": true
   },
   "outputs": [],
   "source": [
    "l =[]\n",
    "for i in test.desk_id:\n",
    "    if i == 'NaN':\n",
    "        l.append(1)\n",
    "    else:\n",
    "        l.append(0)\n",
    "        \n",
    "test['desk_id_null'] = l"
   ]
  },
  {
   "cell_type": "code",
   "execution_count": 85,
   "metadata": {
    "collapsed": true
   },
   "outputs": [],
   "source": [
    "Z = train['desk_id_null']"
   ]
  },
  {
   "cell_type": "code",
   "execution_count": 86,
   "metadata": {
    "collapsed": true
   },
   "outputs": [],
   "source": [
    "def hist_it2(feat):\n",
    "    plt.figure(figsize=(16,4))\n",
    "    feat[Z==0].hist(bins=1000,range=(feat.min(),feat.max()),normed=True,alpha=0.5,color='r')\n",
    "    plt.ylim((0,1))"
   ]
  },
  {
   "cell_type": "code",
   "execution_count": 87,
   "metadata": {
    "collapsed": true
   },
   "outputs": [],
   "source": [
    "def hist_it3(feat):\n",
    "    plt.figure(figsize=(16,4))\n",
    "    feat[Z==1].hist(bins=1000,range=(feat.min(),feat.max()),normed=True,alpha=0.5)\n",
    "    plt.ylim((0,1))"
   ]
  },
  {
   "cell_type": "code",
   "execution_count": 88,
   "metadata": {},
   "outputs": [
    {
     "data": {
      "text/plain": [
       "(0, 0.02)"
      ]
     },
     "execution_count": 88,
     "metadata": {},
     "output_type": "execute_result"
    },
    {
     "data": {
      "image/png": "[encoded data removed]",
      "text/plain": [
       "<matplotlib.figure.Figure at 0x1143f4e0>"
      ]
     },
     "metadata": {},
     "output_type": "display_data"
    },
    {
     "data": {
      "image/png": "[encoded data removed]",
      "text/plain": [
       "<matplotlib.figure.Figure at 0x1143fb38>"
      ]
     },
     "metadata": {},
     "output_type": "display_data"
    }
   ],
   "source": [
    "hist_it2(train['return'])\n",
    "plt.ylim((0,100))\n",
    "plt.xlim((0,.08))\n",
    "\n",
    "hist_it3(train['return'])\n",
    "plt.ylim((0,1000))\n",
    "plt.xlim((0,.02))"
   ]
  },
  {
   "cell_type": "code",
   "execution_count": 89,
   "metadata": {},
   "outputs": [
    {
     "data": {
      "text/html": [
       "<div>\n",
       "<style>\n",
       "    .dataframe thead tr:only-child th {\n",
       "        text-align: right;\n",
       "    }\n",
       "\n",
       "    .dataframe thead th {\n",
       "        text-align: left;\n",
       "    }\n",
       "\n",
       "    .dataframe tbody tr th {\n",
       "        vertical-align: top;\n",
       "    }\n",
       "</style>\n",
       "<table border=\"1\" class=\"dataframe\">\n",
       "  <thead>\n",
       "    <tr style=\"text-align: right;\">\n",
       "      <th></th>\n",
       "      <th>start_date</th>\n",
       "      <th>sold</th>\n",
       "      <th>euribor_rate</th>\n",
       "      <th>libor_rate</th>\n",
       "      <th>bought</th>\n",
       "      <th>creation_date</th>\n",
       "      <th>sell_date</th>\n",
       "      <th>return</th>\n",
       "      <th>desk_id_null</th>\n",
       "    </tr>\n",
       "  </thead>\n",
       "  <tbody>\n",
       "    <tr>\n",
       "      <th>count</th>\n",
       "      <td>3.665000e+03</td>\n",
       "      <td>3.665000e+03</td>\n",
       "      <td>3665.000000</td>\n",
       "      <td>3665.000000</td>\n",
       "      <td>3.665000e+03</td>\n",
       "      <td>3.665000e+03</td>\n",
       "      <td>3.665000e+03</td>\n",
       "      <td>3665.000000</td>\n",
       "      <td>3665.0</td>\n",
       "    </tr>\n",
       "    <tr>\n",
       "      <th>mean</th>\n",
       "      <td>2.014789e+07</td>\n",
       "      <td>6.232608e+07</td>\n",
       "      <td>-0.000495</td>\n",
       "      <td>0.183027</td>\n",
       "      <td>6.231198e+07</td>\n",
       "      <td>2.014788e+07</td>\n",
       "      <td>2.014877e+07</td>\n",
       "      <td>0.003701</td>\n",
       "      <td>1.0</td>\n",
       "    </tr>\n",
       "    <tr>\n",
       "      <th>std</th>\n",
       "      <td>1.502858e+04</td>\n",
       "      <td>2.250163e+08</td>\n",
       "      <td>0.001940</td>\n",
       "      <td>0.651602</td>\n",
       "      <td>2.250133e+08</td>\n",
       "      <td>1.503137e+04</td>\n",
       "      <td>1.504448e+04</td>\n",
       "      <td>0.004241</td>\n",
       "      <td>0.0</td>\n",
       "    </tr>\n",
       "    <tr>\n",
       "      <th>min</th>\n",
       "      <td>2.012092e+07</td>\n",
       "      <td>1.100000e+04</td>\n",
       "      <td>-0.003740</td>\n",
       "      <td>-0.667095</td>\n",
       "      <td>1.098759e+04</td>\n",
       "      <td>2.012092e+07</td>\n",
       "      <td>2.012092e+07</td>\n",
       "      <td>-0.009600</td>\n",
       "      <td>1.0</td>\n",
       "    </tr>\n",
       "    <tr>\n",
       "      <th>25%</th>\n",
       "      <td>2.013123e+07</td>\n",
       "      <td>2.129600e+07</td>\n",
       "      <td>-0.001720</td>\n",
       "      <td>-0.485486</td>\n",
       "      <td>2.129288e+07</td>\n",
       "      <td>2.013123e+07</td>\n",
       "      <td>2.014021e+07</td>\n",
       "      <td>0.001560</td>\n",
       "      <td>1.0</td>\n",
       "    </tr>\n",
       "    <tr>\n",
       "      <th>50%</th>\n",
       "      <td>2.015051e+07</td>\n",
       "      <td>4.290000e+07</td>\n",
       "      <td>-0.000420</td>\n",
       "      <td>0.200114</td>\n",
       "      <td>4.289834e+07</td>\n",
       "      <td>2.015051e+07</td>\n",
       "      <td>2.015061e+07</td>\n",
       "      <td>0.002760</td>\n",
       "      <td>1.0</td>\n",
       "    </tr>\n",
       "    <tr>\n",
       "      <th>75%</th>\n",
       "      <td>2.016072e+07</td>\n",
       "      <td>7.701100e+07</td>\n",
       "      <td>0.001160</td>\n",
       "      <td>0.586674</td>\n",
       "      <td>7.706105e+07</td>\n",
       "      <td>2.016072e+07</td>\n",
       "      <td>2.016082e+07</td>\n",
       "      <td>0.005400</td>\n",
       "      <td>1.0</td>\n",
       "    </tr>\n",
       "    <tr>\n",
       "      <th>max</th>\n",
       "      <td>2.017103e+07</td>\n",
       "      <td>1.320000e+10</td>\n",
       "      <td>0.002580</td>\n",
       "      <td>1.820857</td>\n",
       "      <td>1.320000e+10</td>\n",
       "      <td>2.017103e+07</td>\n",
       "      <td>2.017103e+07</td>\n",
       "      <td>0.028320</td>\n",
       "      <td>1.0</td>\n",
       "    </tr>\n",
       "  </tbody>\n",
       "</table>\n",
       "</div>"
      ],
      "text/plain": [
       "         start_date          sold  euribor_rate   libor_rate        bought  \\\n",
       "count  3.665000e+03  3.665000e+03   3665.000000  3665.000000  3.665000e+03   \n",
       "mean   2.014789e+07  6.232608e+07     -0.000495     0.183027  6.231198e+07   \n",
       "std    1.502858e+04  2.250163e+08      0.001940     0.651602  2.250133e+08   \n",
       "min    2.012092e+07  1.100000e+04     -0.003740    -0.667095  1.098759e+04   \n",
       "25%    2.013123e+07  2.129600e+07     -0.001720    -0.485486  2.129288e+07   \n",
       "50%    2.015051e+07  4.290000e+07     -0.000420     0.200114  4.289834e+07   \n",
       "75%    2.016072e+07  7.701100e+07      0.001160     0.586674  7.706105e+07   \n",
       "max    2.017103e+07  1.320000e+10      0.002580     1.820857  1.320000e+10   \n",
       "\n",
       "       creation_date     sell_date       return  desk_id_null  \n",
       "count   3.665000e+03  3.665000e+03  3665.000000        3665.0  \n",
       "mean    2.014788e+07  2.014877e+07     0.003701           1.0  \n",
       "std     1.503137e+04  1.504448e+04     0.004241           0.0  \n",
       "min     2.012092e+07  2.012092e+07    -0.009600           1.0  \n",
       "25%     2.013123e+07  2.014021e+07     0.001560           1.0  \n",
       "50%     2.015051e+07  2.015061e+07     0.002760           1.0  \n",
       "75%     2.016072e+07  2.016082e+07     0.005400           1.0  \n",
       "max     2.017103e+07  2.017103e+07     0.028320           1.0  "
      ]
     },
     "execution_count": 89,
     "metadata": {},
     "output_type": "execute_result"
    }
   ],
   "source": [
    "train[train['desk_id_null']==1].describe()"
   ]
  },
  {
   "cell_type": "code",
   "execution_count": 90,
   "metadata": {},
   "outputs": [
    {
     "data": {
      "text/html": [
       "<div>\n",
       "<style>\n",
       "    .dataframe thead tr:only-child th {\n",
       "        text-align: right;\n",
       "    }\n",
       "\n",
       "    .dataframe thead th {\n",
       "        text-align: left;\n",
       "    }\n",
       "\n",
       "    .dataframe tbody tr th {\n",
       "        vertical-align: top;\n",
       "    }\n",
       "</style>\n",
       "<table border=\"1\" class=\"dataframe\">\n",
       "  <thead>\n",
       "    <tr style=\"text-align: right;\">\n",
       "      <th></th>\n",
       "      <th>start_date</th>\n",
       "      <th>sold</th>\n",
       "      <th>euribor_rate</th>\n",
       "      <th>libor_rate</th>\n",
       "      <th>bought</th>\n",
       "      <th>creation_date</th>\n",
       "      <th>sell_date</th>\n",
       "      <th>return</th>\n",
       "      <th>desk_id_null</th>\n",
       "    </tr>\n",
       "  </thead>\n",
       "  <tbody>\n",
       "    <tr>\n",
       "      <th>count</th>\n",
       "      <td>5.701000e+03</td>\n",
       "      <td>5.699000e+03</td>\n",
       "      <td>5701.000000</td>\n",
       "      <td>5227.000000</td>\n",
       "      <td>5.699000e+03</td>\n",
       "      <td>5.701000e+03</td>\n",
       "      <td>5.701000e+03</td>\n",
       "      <td>5701.000000</td>\n",
       "      <td>5701.0</td>\n",
       "    </tr>\n",
       "    <tr>\n",
       "      <th>mean</th>\n",
       "      <td>2.009724e+07</td>\n",
       "      <td>1.274715e+08</td>\n",
       "      <td>0.015732</td>\n",
       "      <td>1.569545</td>\n",
       "      <td>1.273447e+08</td>\n",
       "      <td>2.009724e+07</td>\n",
       "      <td>2.009772e+07</td>\n",
       "      <td>0.020785</td>\n",
       "      <td>0.0</td>\n",
       "    </tr>\n",
       "    <tr>\n",
       "      <th>std</th>\n",
       "      <td>1.954483e+04</td>\n",
       "      <td>1.639074e+08</td>\n",
       "      <td>0.013604</td>\n",
       "      <td>1.589419</td>\n",
       "      <td>1.638129e+08</td>\n",
       "      <td>1.953819e+04</td>\n",
       "      <td>1.933997e+04</td>\n",
       "      <td>0.023833</td>\n",
       "      <td>0.0</td>\n",
       "    </tr>\n",
       "    <tr>\n",
       "      <th>min</th>\n",
       "      <td>2.004041e+07</td>\n",
       "      <td>1.100000e+00</td>\n",
       "      <td>0.001220</td>\n",
       "      <td>0.292030</td>\n",
       "      <td>1.099698e+00</td>\n",
       "      <td>2.004072e+07</td>\n",
       "      <td>2.004071e+07</td>\n",
       "      <td>0.000000</td>\n",
       "      <td>0.0</td>\n",
       "    </tr>\n",
       "    <tr>\n",
       "      <th>25%</th>\n",
       "      <td>2.009011e+07</td>\n",
       "      <td>3.850000e+07</td>\n",
       "      <td>0.005260</td>\n",
       "      <td>0.477822</td>\n",
       "      <td>3.832942e+07</td>\n",
       "      <td>2.009011e+07</td>\n",
       "      <td>2.009013e+07</td>\n",
       "      <td>0.004440</td>\n",
       "      <td>0.0</td>\n",
       "    </tr>\n",
       "    <tr>\n",
       "      <th>50%</th>\n",
       "      <td>2.010080e+07</td>\n",
       "      <td>7.566900e+07</td>\n",
       "      <td>0.012050</td>\n",
       "      <td>0.822006</td>\n",
       "      <td>7.560667e+07</td>\n",
       "      <td>2.010080e+07</td>\n",
       "      <td>2.010083e+07</td>\n",
       "      <td>0.009000</td>\n",
       "      <td>0.0</td>\n",
       "    </tr>\n",
       "    <tr>\n",
       "      <th>75%</th>\n",
       "      <td>2.011093e+07</td>\n",
       "      <td>1.460470e+08</td>\n",
       "      <td>0.020930</td>\n",
       "      <td>2.273930</td>\n",
       "      <td>1.459707e+08</td>\n",
       "      <td>2.011093e+07</td>\n",
       "      <td>2.011101e+07</td>\n",
       "      <td>0.032689</td>\n",
       "      <td>0.0</td>\n",
       "    </tr>\n",
       "    <tr>\n",
       "      <th>max</th>\n",
       "      <td>2.012092e+07</td>\n",
       "      <td>1.773078e+09</td>\n",
       "      <td>0.050880</td>\n",
       "      <td>6.379137</td>\n",
       "      <td>1.772926e+09</td>\n",
       "      <td>2.012092e+07</td>\n",
       "      <td>2.012122e+07</td>\n",
       "      <td>0.778441</td>\n",
       "      <td>0.0</td>\n",
       "    </tr>\n",
       "  </tbody>\n",
       "</table>\n",
       "</div>"
      ],
      "text/plain": [
       "         start_date          sold  euribor_rate   libor_rate        bought  \\\n",
       "count  5.701000e+03  5.699000e+03   5701.000000  5227.000000  5.699000e+03   \n",
       "mean   2.009724e+07  1.274715e+08      0.015732     1.569545  1.273447e+08   \n",
       "std    1.954483e+04  1.639074e+08      0.013604     1.589419  1.638129e+08   \n",
       "min    2.004041e+07  1.100000e+00      0.001220     0.292030  1.099698e+00   \n",
       "25%    2.009011e+07  3.850000e+07      0.005260     0.477822  3.832942e+07   \n",
       "50%    2.010080e+07  7.566900e+07      0.012050     0.822006  7.560667e+07   \n",
       "75%    2.011093e+07  1.460470e+08      0.020930     2.273930  1.459707e+08   \n",
       "max    2.012092e+07  1.773078e+09      0.050880     6.379137  1.772926e+09   \n",
       "\n",
       "       creation_date     sell_date       return  desk_id_null  \n",
       "count   5.701000e+03  5.701000e+03  5701.000000        5701.0  \n",
       "mean    2.009724e+07  2.009772e+07     0.020785           0.0  \n",
       "std     1.953819e+04  1.933997e+04     0.023833           0.0  \n",
       "min     2.004072e+07  2.004071e+07     0.000000           0.0  \n",
       "25%     2.009011e+07  2.009013e+07     0.004440           0.0  \n",
       "50%     2.010080e+07  2.010083e+07     0.009000           0.0  \n",
       "75%     2.011093e+07  2.011101e+07     0.032689           0.0  \n",
       "max     2.012092e+07  2.012122e+07     0.778441           0.0  "
      ]
     },
     "execution_count": 90,
     "metadata": {},
     "output_type": "execute_result"
    }
   ],
   "source": [
    "train[train['desk_id_null']==0].describe()"
   ]
  },
  {
   "cell_type": "code",
   "execution_count": 91,
   "metadata": {},
   "outputs": [
    {
     "data": {
      "text/html": [
       "<div>\n",
       "<style>\n",
       "    .dataframe thead tr:only-child th {\n",
       "        text-align: right;\n",
       "    }\n",
       "\n",
       "    .dataframe thead th {\n",
       "        text-align: left;\n",
       "    }\n",
       "\n",
       "    .dataframe tbody tr th {\n",
       "        vertical-align: top;\n",
       "    }\n",
       "</style>\n",
       "<table border=\"1\" class=\"dataframe\">\n",
       "  <thead>\n",
       "    <tr style=\"text-align: right;\">\n",
       "      <th></th>\n",
       "      <th>start_date</th>\n",
       "      <th>sold</th>\n",
       "      <th>euribor_rate</th>\n",
       "      <th>libor_rate</th>\n",
       "      <th>bought</th>\n",
       "      <th>creation_date</th>\n",
       "      <th>sell_date</th>\n",
       "      <th>desk_id_null</th>\n",
       "    </tr>\n",
       "  </thead>\n",
       "  <tbody>\n",
       "    <tr>\n",
       "      <th>count</th>\n",
       "      <td>4.801000e+03</td>\n",
       "      <td>4.801000e+03</td>\n",
       "      <td>4801.000000</td>\n",
       "      <td>4536.000000</td>\n",
       "      <td>4.801000e+03</td>\n",
       "      <td>4.801000e+03</td>\n",
       "      <td>4.801000e+03</td>\n",
       "      <td>4801.000000</td>\n",
       "    </tr>\n",
       "    <tr>\n",
       "      <th>mean</th>\n",
       "      <td>2.011849e+07</td>\n",
       "      <td>1.024942e+08</td>\n",
       "      <td>0.008717</td>\n",
       "      <td>0.930464</td>\n",
       "      <td>1.024165e+08</td>\n",
       "      <td>2.011849e+07</td>\n",
       "      <td>2.011911e+07</td>\n",
       "      <td>0.405749</td>\n",
       "    </tr>\n",
       "    <tr>\n",
       "      <th>std</th>\n",
       "      <td>2.992170e+04</td>\n",
       "      <td>1.356065e+08</td>\n",
       "      <td>0.012747</td>\n",
       "      <td>1.387474</td>\n",
       "      <td>1.355206e+08</td>\n",
       "      <td>2.991692e+04</td>\n",
       "      <td>3.005556e+04</td>\n",
       "      <td>0.491088</td>\n",
       "    </tr>\n",
       "    <tr>\n",
       "      <th>min</th>\n",
       "      <td>2.004061e+07</td>\n",
       "      <td>1.100000e+00</td>\n",
       "      <td>-0.003740</td>\n",
       "      <td>-0.667095</td>\n",
       "      <td>1.099989e+00</td>\n",
       "      <td>2.004072e+07</td>\n",
       "      <td>2.004071e+07</td>\n",
       "      <td>0.000000</td>\n",
       "    </tr>\n",
       "    <tr>\n",
       "      <th>25%</th>\n",
       "      <td>2.010052e+07</td>\n",
       "      <td>2.891900e+07</td>\n",
       "      <td>0.000970</td>\n",
       "      <td>0.240305</td>\n",
       "      <td>2.891866e+07</td>\n",
       "      <td>2.010053e+07</td>\n",
       "      <td>2.010061e+07</td>\n",
       "      <td>0.000000</td>\n",
       "    </tr>\n",
       "    <tr>\n",
       "      <th>50%</th>\n",
       "      <td>2.012010e+07</td>\n",
       "      <td>5.725500e+07</td>\n",
       "      <td>0.004250</td>\n",
       "      <td>0.531493</td>\n",
       "      <td>5.725304e+07</td>\n",
       "      <td>2.012010e+07</td>\n",
       "      <td>2.012011e+07</td>\n",
       "      <td>0.000000</td>\n",
       "    </tr>\n",
       "    <tr>\n",
       "      <th>75%</th>\n",
       "      <td>2.014083e+07</td>\n",
       "      <td>1.210000e+08</td>\n",
       "      <td>0.013320</td>\n",
       "      <td>1.065318</td>\n",
       "      <td>1.209652e+08</td>\n",
       "      <td>2.014083e+07</td>\n",
       "      <td>2.014100e+07</td>\n",
       "      <td>1.000000</td>\n",
       "    </tr>\n",
       "    <tr>\n",
       "      <th>max</th>\n",
       "      <td>2.017103e+07</td>\n",
       "      <td>1.560212e+09</td>\n",
       "      <td>0.050880</td>\n",
       "      <td>6.434407</td>\n",
       "      <td>1.560168e+09</td>\n",
       "      <td>2.017103e+07</td>\n",
       "      <td>2.017103e+07</td>\n",
       "      <td>1.000000</td>\n",
       "    </tr>\n",
       "  </tbody>\n",
       "</table>\n",
       "</div>"
      ],
      "text/plain": [
       "         start_date          sold  euribor_rate   libor_rate        bought  \\\n",
       "count  4.801000e+03  4.801000e+03   4801.000000  4536.000000  4.801000e+03   \n",
       "mean   2.011849e+07  1.024942e+08      0.008717     0.930464  1.024165e+08   \n",
       "std    2.992170e+04  1.356065e+08      0.012747     1.387474  1.355206e+08   \n",
       "min    2.004061e+07  1.100000e+00     -0.003740    -0.667095  1.099989e+00   \n",
       "25%    2.010052e+07  2.891900e+07      0.000970     0.240305  2.891866e+07   \n",
       "50%    2.012010e+07  5.725500e+07      0.004250     0.531493  5.725304e+07   \n",
       "75%    2.014083e+07  1.210000e+08      0.013320     1.065318  1.209652e+08   \n",
       "max    2.017103e+07  1.560212e+09      0.050880     6.434407  1.560168e+09   \n",
       "\n",
       "       creation_date     sell_date  desk_id_null  \n",
       "count   4.801000e+03  4.801000e+03   4801.000000  \n",
       "mean    2.011849e+07  2.011911e+07      0.405749  \n",
       "std     2.991692e+04  3.005556e+04      0.491088  \n",
       "min     2.004072e+07  2.004071e+07      0.000000  \n",
       "25%     2.010053e+07  2.010061e+07      0.000000  \n",
       "50%     2.012010e+07  2.012011e+07      0.000000  \n",
       "75%     2.014083e+07  2.014100e+07      1.000000  \n",
       "max     2.017103e+07  2.017103e+07      1.000000  "
      ]
     },
     "execution_count": 91,
     "metadata": {},
     "output_type": "execute_result"
    }
   ],
   "source": [
    "test.describe()"
   ]
  },
  {
   "cell_type": "code",
   "execution_count": 92,
   "metadata": {},
   "outputs": [
    {
     "data": {
      "text/plain": [
       "portfolio_id       object\n",
       "desk_id            object\n",
       "office_id          object\n",
       "pf_category        object\n",
       "start_date          int64\n",
       "sold              float64\n",
       "country_code       object\n",
       "euribor_rate      float64\n",
       "currency           object\n",
       "libor_rate        float64\n",
       "bought            float64\n",
       "creation_date       int64\n",
       "indicator_code     object\n",
       "sell_date           int64\n",
       "type               object\n",
       "hedge_value        object\n",
       "status             object\n",
       "return            float64\n",
       "desk_id_null        int64\n",
       "dtype: object"
      ]
     },
     "execution_count": 92,
     "metadata": {},
     "output_type": "execute_result"
    }
   ],
   "source": [
    "train.dtypes"
   ]
  },
  {
   "cell_type": "code",
   "execution_count": 93,
   "metadata": {},
   "outputs": [],
   "source": [
    "train = train.sort_values('start_date',ascending=False)"
   ]
  },
  {
   "cell_type": "code",
   "execution_count": 94,
   "metadata": {},
   "outputs": [
    {
     "data": {
      "text/plain": [
       "0    5701\n",
       "1    3665\n",
       "Name: desk_id_null, dtype: int64"
      ]
     },
     "execution_count": 94,
     "metadata": {},
     "output_type": "execute_result"
    }
   ],
   "source": [
    "train.desk_id_null.value_counts()"
   ]
  },
  {
   "cell_type": "code",
   "execution_count": 95,
   "metadata": {
    "collapsed": true
   },
   "outputs": [],
   "source": [
    "l =[]\n",
    "for i in range(3665):\n",
    "    l.append(-1)"
   ]
  },
  {
   "cell_type": "code",
   "execution_count": 96,
   "metadata": {
    "collapsed": true
   },
   "outputs": [],
   "source": [
    "trainc = train[train['desk_id_null']==0]"
   ]
  },
  {
   "cell_type": "code",
   "execution_count": 97,
   "metadata": {
    "collapsed": true
   },
   "outputs": [],
   "source": [
    "encoding = trainc.groupby('desk_id').size()"
   ]
  },
  {
   "cell_type": "code",
   "execution_count": 98,
   "metadata": {},
   "outputs": [
    {
     "name": "stderr",
     "output_type": "stream",
     "text": [
      "C:\\ProgramData\\Anaconda2\\lib\\site-packages\\ipykernel_launcher.py:1: SettingWithCopyWarning: \n",
      "A value is trying to be set on a copy of a slice from a DataFrame.\n",
      "Try using .loc[row_indexer,col_indexer] = value instead\n",
      "\n",
      "See the caveats in the documentation: http://pandas.pydata.org/pandas-docs/stable/indexing.html#indexing-view-versus-copy\n",
      "  \"\"\"Entry point for launching an IPython kernel.\n"
     ]
    }
   ],
   "source": [
    "trainc['enc'] = trainc.desk_id.map(encoding)"
   ]
  },
  {
   "cell_type": "code",
   "execution_count": 99,
   "metadata": {},
   "outputs": [],
   "source": [
    "for i in trainc.enc:\n",
    "    l.append(i)"
   ]
  },
  {
   "cell_type": "code",
   "execution_count": 100,
   "metadata": {},
   "outputs": [],
   "source": [
    "from collections import Counter"
   ]
  },
  {
   "cell_type": "code",
   "execution_count": 101,
   "metadata": {},
   "outputs": [
    {
     "data": {
      "text/plain": [
       "Counter({-1: 3665,\n",
       "         1: 3110,\n",
       "         2: 928,\n",
       "         3: 717,\n",
       "         4: 296,\n",
       "         5: 155,\n",
       "         6: 258,\n",
       "         7: 140,\n",
       "         8: 32,\n",
       "         9: 45,\n",
       "         10: 20})"
      ]
     },
     "execution_count": 101,
     "metadata": {},
     "output_type": "execute_result"
    }
   ],
   "source": [
    "Counter(l)"
   ]
  },
  {
   "cell_type": "code",
   "execution_count": 102,
   "metadata": {},
   "outputs": [],
   "source": [
    "train['team'] = l"
   ]
  },
  {
   "cell_type": "code",
   "execution_count": 103,
   "metadata": {
    "collapsed": true
   },
   "outputs": [],
   "source": [
    "test = test.sort_values('start_date',ascending=False)"
   ]
  },
  {
   "cell_type": "code",
   "execution_count": 104,
   "metadata": {},
   "outputs": [
    {
     "data": {
      "text/plain": [
       "0    2853\n",
       "1    1948\n",
       "Name: desk_id_null, dtype: int64"
      ]
     },
     "execution_count": 104,
     "metadata": {},
     "output_type": "execute_result"
    }
   ],
   "source": [
    "test.desk_id_null.value_counts()"
   ]
  },
  {
   "cell_type": "code",
   "execution_count": 105,
   "metadata": {
    "collapsed": true
   },
   "outputs": [],
   "source": [
    "l =[]\n",
    "for i in range(1948):\n",
    "    l.append(-1)"
   ]
  },
  {
   "cell_type": "code",
   "execution_count": 106,
   "metadata": {
    "collapsed": true
   },
   "outputs": [],
   "source": [
    "testc= test[test['desk_id_null']==0]"
   ]
  },
  {
   "cell_type": "code",
   "execution_count": 107,
   "metadata": {
    "collapsed": true
   },
   "outputs": [],
   "source": [
    "encoding = testc.groupby('desk_id').size()"
   ]
  },
  {
   "cell_type": "code",
   "execution_count": 108,
   "metadata": {},
   "outputs": [
    {
     "name": "stderr",
     "output_type": "stream",
     "text": [
      "C:\\ProgramData\\Anaconda2\\lib\\site-packages\\ipykernel_launcher.py:1: SettingWithCopyWarning: \n",
      "A value is trying to be set on a copy of a slice from a DataFrame.\n",
      "Try using .loc[row_indexer,col_indexer] = value instead\n",
      "\n",
      "See the caveats in the documentation: http://pandas.pydata.org/pandas-docs/stable/indexing.html#indexing-view-versus-copy\n",
      "  \"\"\"Entry point for launching an IPython kernel.\n"
     ]
    }
   ],
   "source": [
    "testc['enc'] = testc.desk_id.map(encoding)"
   ]
  },
  {
   "cell_type": "code",
   "execution_count": 109,
   "metadata": {
    "collapsed": true
   },
   "outputs": [],
   "source": [
    "for i in testc.enc:\n",
    "    l.append(i)"
   ]
  },
  {
   "cell_type": "code",
   "execution_count": 110,
   "metadata": {
    "collapsed": true
   },
   "outputs": [],
   "source": [
    "test['team'] = l"
   ]
  },
  {
   "cell_type": "code",
   "execution_count": 111,
   "metadata": {},
   "outputs": [
    {
     "data": {
      "text/plain": [
       "((9366, 20), (4801, 19))"
      ]
     },
     "execution_count": 111,
     "metadata": {},
     "output_type": "execute_result"
    }
   ],
   "source": [
    "train.shape , test.shape"
   ]
  },
  {
   "cell_type": "code",
   "execution_count": 112,
   "metadata": {
    "collapsed": true
   },
   "outputs": [],
   "source": [
    "cat_cols = list(train.select_dtypes(include=['object']).columns)\n",
    "num_cols = list(train.select_dtypes(exclude=['object']).columns)"
   ]
  },
  {
   "cell_type": "code",
   "execution_count": 113,
   "metadata": {},
   "outputs": [
    {
     "data": {
      "text/plain": [
       "['portfolio_id',\n",
       " 'desk_id',\n",
       " 'office_id',\n",
       " 'pf_category',\n",
       " 'country_code',\n",
       " 'currency',\n",
       " 'indicator_code',\n",
       " 'type',\n",
       " 'hedge_value',\n",
       " 'status']"
      ]
     },
     "execution_count": 113,
     "metadata": {},
     "output_type": "execute_result"
    }
   ],
   "source": [
    "cat_cols"
   ]
  },
  {
   "cell_type": "code",
   "execution_count": 114,
   "metadata": {
    "collapsed": true
   },
   "outputs": [],
   "source": [
    "dic = dict(zip(train.office_id.unique(),[1,2]))"
   ]
  },
  {
   "cell_type": "code",
   "execution_count": 115,
   "metadata": {},
   "outputs": [],
   "source": [
    "train['office_id'] = train['office_id'].map(dic)"
   ]
  },
  {
   "cell_type": "code",
   "execution_count": 116,
   "metadata": {
    "collapsed": true
   },
   "outputs": [],
   "source": [
    "test['office_id'] = test['office_id'].map(dic)"
   ]
  },
  {
   "cell_type": "code",
   "execution_count": 117,
   "metadata": {},
   "outputs": [],
   "source": [
    "dic = dict(zip(train.pf_category.unique(),[1,2,3,4,5]))"
   ]
  },
  {
   "cell_type": "code",
   "execution_count": 118,
   "metadata": {},
   "outputs": [],
   "source": [
    "train['pf_category'] = train['pf_category'].map(dic)"
   ]
  },
  {
   "cell_type": "code",
   "execution_count": 119,
   "metadata": {
    "collapsed": true
   },
   "outputs": [],
   "source": [
    "test['pf_category'] = test['pf_category'].map(dic)"
   ]
  },
  {
   "cell_type": "code",
   "execution_count": 120,
   "metadata": {},
   "outputs": [],
   "source": [
    "dic = dict(zip(train.country_code.unique(),[1,2,3,4,5]))"
   ]
  },
  {
   "cell_type": "code",
   "execution_count": 121,
   "metadata": {
    "collapsed": true
   },
   "outputs": [],
   "source": [
    "train['country_code'] = train['country_code'].map(dic)"
   ]
  },
  {
   "cell_type": "code",
   "execution_count": 122,
   "metadata": {
    "collapsed": true
   },
   "outputs": [],
   "source": [
    "test['country_code'] = test['country_code'].map(dic)"
   ]
  },
  {
   "cell_type": "code",
   "execution_count": 123,
   "metadata": {},
   "outputs": [],
   "source": [
    "dic = dict(zip(train.currency.unique(),[1,2,3,4,5]))"
   ]
  },
  {
   "cell_type": "code",
   "execution_count": 124,
   "metadata": {
    "collapsed": true
   },
   "outputs": [],
   "source": [
    "train['currency'] = train['currency'].map(dic)"
   ]
  },
  {
   "cell_type": "code",
   "execution_count": 125,
   "metadata": {
    "collapsed": true
   },
   "outputs": [],
   "source": [
    "test['currency'] = test['currency'].map(dic)"
   ]
  },
  {
   "cell_type": "code",
   "execution_count": 126,
   "metadata": {},
   "outputs": [],
   "source": [
    "dic = dict(zip(train.type.unique(),[1,2,3,4,5,6,7,8]))"
   ]
  },
  {
   "cell_type": "code",
   "execution_count": 127,
   "metadata": {
    "collapsed": true
   },
   "outputs": [],
   "source": [
    "train['type'] = train['type'].map(dic)"
   ]
  },
  {
   "cell_type": "code",
   "execution_count": 128,
   "metadata": {
    "collapsed": true
   },
   "outputs": [],
   "source": [
    "test['type'] = test['type'].map(dic)"
   ]
  },
  {
   "cell_type": "code",
   "execution_count": 129,
   "metadata": {},
   "outputs": [
    {
     "data": {
      "text/plain": [
       "['start_date',\n",
       " 'sold',\n",
       " 'euribor_rate',\n",
       " 'libor_rate',\n",
       " 'bought',\n",
       " 'creation_date',\n",
       " 'sell_date',\n",
       " 'return',\n",
       " 'desk_id_null',\n",
       " 'team']"
      ]
     },
     "execution_count": 129,
     "metadata": {},
     "output_type": "execute_result"
    }
   ],
   "source": [
    "num_cols"
   ]
  },
  {
   "cell_type": "code",
   "execution_count": 130,
   "metadata": {},
   "outputs": [
    {
     "data": {
      "text/html": [
       "<div>\n",
       "<style>\n",
       "    .dataframe thead tr:only-child th {\n",
       "        text-align: right;\n",
       "    }\n",
       "\n",
       "    .dataframe thead th {\n",
       "        text-align: left;\n",
       "    }\n",
       "\n",
       "    .dataframe tbody tr th {\n",
       "        vertical-align: top;\n",
       "    }\n",
       "</style>\n",
       "<table border=\"1\" class=\"dataframe\">\n",
       "  <thead>\n",
       "    <tr style=\"text-align: right;\">\n",
       "      <th></th>\n",
       "      <th>portfolio_id</th>\n",
       "      <th>desk_id</th>\n",
       "      <th>office_id</th>\n",
       "      <th>pf_category</th>\n",
       "      <th>start_date</th>\n",
       "      <th>sold</th>\n",
       "      <th>country_code</th>\n",
       "      <th>euribor_rate</th>\n",
       "      <th>currency</th>\n",
       "      <th>libor_rate</th>\n",
       "      <th>bought</th>\n",
       "      <th>creation_date</th>\n",
       "      <th>indicator_code</th>\n",
       "      <th>sell_date</th>\n",
       "      <th>type</th>\n",
       "      <th>hedge_value</th>\n",
       "      <th>status</th>\n",
       "      <th>return</th>\n",
       "      <th>desk_id_null</th>\n",
       "      <th>team</th>\n",
       "    </tr>\n",
       "  </thead>\n",
       "  <tbody>\n",
       "    <tr>\n",
       "      <th>7656</th>\n",
       "      <td>PF00015641</td>\n",
       "      <td>NaN</td>\n",
       "      <td>1</td>\n",
       "      <td>1</td>\n",
       "      <td>20171026</td>\n",
       "      <td>4.677352e+08</td>\n",
       "      <td>1</td>\n",
       "      <td>-0.00103</td>\n",
       "      <td>1</td>\n",
       "      <td>1.820857</td>\n",
       "      <td>4.677350e+08</td>\n",
       "      <td>20171026</td>\n",
       "      <td>True</td>\n",
       "      <td>20171031</td>\n",
       "      <td>1</td>\n",
       "      <td>False</td>\n",
       "      <td>True</td>\n",
       "      <td>0.000038</td>\n",
       "      <td>1</td>\n",
       "      <td>-1</td>\n",
       "    </tr>\n",
       "    <tr>\n",
       "      <th>7655</th>\n",
       "      <td>PF00015640</td>\n",
       "      <td>NaN</td>\n",
       "      <td>1</td>\n",
       "      <td>1</td>\n",
       "      <td>20171026</td>\n",
       "      <td>3.593009e+04</td>\n",
       "      <td>1</td>\n",
       "      <td>-0.00103</td>\n",
       "      <td>1</td>\n",
       "      <td>1.820857</td>\n",
       "      <td>3.593007e+04</td>\n",
       "      <td>20171026</td>\n",
       "      <td>True</td>\n",
       "      <td>20171031</td>\n",
       "      <td>1</td>\n",
       "      <td>False</td>\n",
       "      <td>True</td>\n",
       "      <td>0.000038</td>\n",
       "      <td>1</td>\n",
       "      <td>-1</td>\n",
       "    </tr>\n",
       "    <tr>\n",
       "      <th>7475</th>\n",
       "      <td>PF00015638</td>\n",
       "      <td>NaN</td>\n",
       "      <td>2</td>\n",
       "      <td>2</td>\n",
       "      <td>20171026</td>\n",
       "      <td>3.230588e+05</td>\n",
       "      <td>2</td>\n",
       "      <td>-0.00103</td>\n",
       "      <td>2</td>\n",
       "      <td>-0.515291</td>\n",
       "      <td>2.925764e+06</td>\n",
       "      <td>20171026</td>\n",
       "      <td>True</td>\n",
       "      <td>20171031</td>\n",
       "      <td>2</td>\n",
       "      <td>False</td>\n",
       "      <td>True</td>\n",
       "      <td>0.000038</td>\n",
       "      <td>1</td>\n",
       "      <td>-1</td>\n",
       "    </tr>\n",
       "    <tr>\n",
       "      <th>8788</th>\n",
       "      <td>PF00015636</td>\n",
       "      <td>NaN</td>\n",
       "      <td>2</td>\n",
       "      <td>2</td>\n",
       "      <td>20170926</td>\n",
       "      <td>1.100000e+05</td>\n",
       "      <td>2</td>\n",
       "      <td>-0.00114</td>\n",
       "      <td>2</td>\n",
       "      <td>-0.507438</td>\n",
       "      <td>1.099908e+05</td>\n",
       "      <td>20170926</td>\n",
       "      <td>True</td>\n",
       "      <td>20170929</td>\n",
       "      <td>2</td>\n",
       "      <td>False</td>\n",
       "      <td>True</td>\n",
       "      <td>0.012000</td>\n",
       "      <td>1</td>\n",
       "      <td>-1</td>\n",
       "    </tr>\n",
       "    <tr>\n",
       "      <th>7678</th>\n",
       "      <td>PF00015629</td>\n",
       "      <td>NaN</td>\n",
       "      <td>1</td>\n",
       "      <td>1</td>\n",
       "      <td>20170907</td>\n",
       "      <td>8.336350e+04</td>\n",
       "      <td>1</td>\n",
       "      <td>-0.00114</td>\n",
       "      <td>1</td>\n",
       "      <td>1.738247</td>\n",
       "      <td>8.335424e+04</td>\n",
       "      <td>20170907</td>\n",
       "      <td>True</td>\n",
       "      <td>20170927</td>\n",
       "      <td>1</td>\n",
       "      <td>False</td>\n",
       "      <td>True</td>\n",
       "      <td>0.000024</td>\n",
       "      <td>1</td>\n",
       "      <td>-1</td>\n",
       "    </tr>\n",
       "  </tbody>\n",
       "</table>\n",
       "</div>"
      ],
      "text/plain": [
       "     portfolio_id desk_id  office_id  pf_category  start_date          sold  \\\n",
       "7656   PF00015641     NaN          1            1    20171026  4.677352e+08   \n",
       "7655   PF00015640     NaN          1            1    20171026  3.593009e+04   \n",
       "7475   PF00015638     NaN          2            2    20171026  3.230588e+05   \n",
       "8788   PF00015636     NaN          2            2    20170926  1.100000e+05   \n",
       "7678   PF00015629     NaN          1            1    20170907  8.336350e+04   \n",
       "\n",
       "      country_code  euribor_rate  currency  libor_rate        bought  \\\n",
       "7656             1      -0.00103         1    1.820857  4.677350e+08   \n",
       "7655             1      -0.00103         1    1.820857  3.593007e+04   \n",
       "7475             2      -0.00103         2   -0.515291  2.925764e+06   \n",
       "8788             2      -0.00114         2   -0.507438  1.099908e+05   \n",
       "7678             1      -0.00114         1    1.738247  8.335424e+04   \n",
       "\n",
       "      creation_date indicator_code  sell_date  type hedge_value status  \\\n",
       "7656       20171026           True   20171031     1       False   True   \n",
       "7655       20171026           True   20171031     1       False   True   \n",
       "7475       20171026           True   20171031     2       False   True   \n",
       "8788       20170926           True   20170929     2       False   True   \n",
       "7678       20170907           True   20170927     1       False   True   \n",
       "\n",
       "        return  desk_id_null  team  \n",
       "7656  0.000038             1    -1  \n",
       "7655  0.000038             1    -1  \n",
       "7475  0.000038             1    -1  \n",
       "8788  0.012000             1    -1  \n",
       "7678  0.000024             1    -1  "
      ]
     },
     "execution_count": 130,
     "metadata": {},
     "output_type": "execute_result"
    }
   ],
   "source": [
    "train.head()"
   ]
  },
  {
   "cell_type": "code",
   "execution_count": 131,
   "metadata": {
    "scrolled": true
   },
   "outputs": [],
   "source": [
    "train.libor_rate.fillna(-9,inplace=True)"
   ]
  },
  {
   "cell_type": "code",
   "execution_count": 132,
   "metadata": {
    "collapsed": true
   },
   "outputs": [],
   "source": [
    "test.libor_rate.fillna(-9,inplace=True)"
   ]
  },
  {
   "cell_type": "code",
   "execution_count": 133,
   "metadata": {},
   "outputs": [],
   "source": [
    "l =[]\n",
    "for i in train.libor_rate:\n",
    "    if i == -9:\n",
    "        l.append(5)\n",
    "    else:\n",
    "        l.append(0)\n",
    "        \n",
    "train['libor_rate_null'] = l"
   ]
  },
  {
   "cell_type": "code",
   "execution_count": 134,
   "metadata": {
    "collapsed": true
   },
   "outputs": [],
   "source": [
    "l =[]\n",
    "for i in test.libor_rate:\n",
    "    if i == -9:\n",
    "        l.append(5)\n",
    "    else:\n",
    "        l.append(0)\n",
    "        \n",
    "test['libor_rate_null'] = l"
   ]
  },
  {
   "cell_type": "code",
   "execution_count": 144,
   "metadata": {},
   "outputs": [],
   "source": [
    "train.indicator_code = train['indicator_code'].map({'False':0,True:1})"
   ]
  },
  {
   "cell_type": "code",
   "execution_count": 145,
   "metadata": {
    "collapsed": true
   },
   "outputs": [],
   "source": [
    "test.indicator_code = train['indicator_code'].map({'False':0,True:1})"
   ]
  },
  {
   "cell_type": "code",
   "execution_count": 146,
   "metadata": {},
   "outputs": [
    {
     "data": {
      "text/plain": [
       "NaN      5701\n",
       "False    2437\n",
       "True     1228\n",
       "Name: hedge_value, dtype: int64"
      ]
     },
     "execution_count": 146,
     "metadata": {},
     "output_type": "execute_result"
    }
   ],
   "source": [
    "train.hedge_value.value_counts(dropna=False)"
   ]
  },
  {
   "cell_type": "code",
   "execution_count": 148,
   "metadata": {
    "collapsed": true
   },
   "outputs": [],
   "source": [
    "train.hedge_value.fillna('NaN',inplace=True)\n",
    "test.hedge_value.fillna('NaN',inplace=True)"
   ]
  },
  {
   "cell_type": "code",
   "execution_count": 151,
   "metadata": {},
   "outputs": [
    {
     "data": {
      "text/plain": [
       "7656    0\n",
       "7655    0\n",
       "7475    0\n",
       "8788    0\n",
       "7678    0\n",
       "8226    0\n",
       "7695    0\n",
       "8513    0\n",
       "8890    0\n",
       "8224    0\n",
       "8889    0\n",
       "8225    0\n",
       "7383    0\n",
       "7384    0\n",
       "8223    0\n",
       "7732    0\n",
       "7382    0\n",
       "8692    0\n",
       "7381    0\n",
       "8693    0\n",
       "8677    0\n",
       "8676    0\n",
       "8222    0\n",
       "8675    0\n",
       "8670    0\n",
       "7353    0\n",
       "7352    0\n",
       "8284    0\n",
       "8671    0\n",
       "7689    0\n",
       "       ..\n",
       "26     -1\n",
       "24     -1\n",
       "25     -1\n",
       "23     -1\n",
       "22     -1\n",
       "21     -1\n",
       "51     -1\n",
       "39     -1\n",
       "19     -1\n",
       "20     -1\n",
       "17     -1\n",
       "63     -1\n",
       "15     -1\n",
       "16     -1\n",
       "13     -1\n",
       "11     -1\n",
       "12     -1\n",
       "2      -1\n",
       "0      -1\n",
       "18     -1\n",
       "1      -1\n",
       "5      -1\n",
       "7      -1\n",
       "6      -1\n",
       "10     -1\n",
       "4      -1\n",
       "3      -1\n",
       "14     -1\n",
       "8      -1\n",
       "9      -1\n",
       "Name: hedge_value, Length: 9366, dtype: int64"
      ]
     },
     "execution_count": 151,
     "metadata": {},
     "output_type": "execute_result"
    }
   ],
   "source": [
    "train['hedge_value'].map({False:0,True:1,'NaN':-1})"
   ]
  },
  {
   "cell_type": "code",
   "execution_count": 152,
   "metadata": {
    "scrolled": true
   },
   "outputs": [],
   "source": [
    "train.hedge_value = train['hedge_value'].map({False:0,True:1,'NaN':-1})"
   ]
  },
  {
   "cell_type": "code",
   "execution_count": 153,
   "metadata": {
    "collapsed": true
   },
   "outputs": [],
   "source": [
    "test.hedge_value = test['hedge_value'].map({False:0,True:1,'NaN':-1})"
   ]
  },
  {
   "cell_type": "code",
   "execution_count": 154,
   "metadata": {},
   "outputs": [
    {
     "data": {
      "text/plain": [
       "7656    0\n",
       "7655    0\n",
       "7475    0\n",
       "8788    0\n",
       "7678    0\n",
       "8226    0\n",
       "7695    0\n",
       "8513    0\n",
       "8890    0\n",
       "8224    0\n",
       "8889    0\n",
       "8225    0\n",
       "7383    0\n",
       "7384    0\n",
       "8223    0\n",
       "7732    0\n",
       "7382    0\n",
       "8692    0\n",
       "7381    0\n",
       "8693    0\n",
       "8677    0\n",
       "8676    0\n",
       "8222    0\n",
       "8675    0\n",
       "8670    0\n",
       "7353    0\n",
       "7352    0\n",
       "8284    0\n",
       "8671    0\n",
       "7689    0\n",
       "       ..\n",
       "26     -1\n",
       "24     -1\n",
       "25     -1\n",
       "23     -1\n",
       "22     -1\n",
       "21     -1\n",
       "51     -1\n",
       "39     -1\n",
       "19     -1\n",
       "20     -1\n",
       "17     -1\n",
       "63     -1\n",
       "15     -1\n",
       "16     -1\n",
       "13     -1\n",
       "11     -1\n",
       "12     -1\n",
       "2      -1\n",
       "0      -1\n",
       "18     -1\n",
       "1      -1\n",
       "5      -1\n",
       "7      -1\n",
       "6      -1\n",
       "10     -1\n",
       "4      -1\n",
       "3      -1\n",
       "14     -1\n",
       "8      -1\n",
       "9      -1\n",
       "Name: hedge_value, Length: 9366, dtype: int64"
      ]
     },
     "execution_count": 154,
     "metadata": {},
     "output_type": "execute_result"
    }
   ],
   "source": [
    "train.hedge_value"
   ]
  },
  {
   "cell_type": "code",
   "execution_count": 155,
   "metadata": {},
   "outputs": [
    {
     "data": {
      "text/plain": [
       "array([True, 'False'], dtype=object)"
      ]
     },
     "execution_count": 155,
     "metadata": {},
     "output_type": "execute_result"
    }
   ],
   "source": [
    "train['status'].unique()"
   ]
  },
  {
   "cell_type": "code",
   "execution_count": 156,
   "metadata": {
    "collapsed": true
   },
   "outputs": [],
   "source": [
    "train.status = train['status'].map({'False':0,True:1})"
   ]
  },
  {
   "cell_type": "code",
   "execution_count": 157,
   "metadata": {
    "collapsed": true
   },
   "outputs": [],
   "source": [
    "test.status = test['status'].map({'False':0,True:1})"
   ]
  },
  {
   "cell_type": "code",
   "execution_count": 161,
   "metadata": {},
   "outputs": [],
   "source": [
    "train['start_year'] = train['start_date'] // 10000"
   ]
  },
  {
   "cell_type": "code",
   "execution_count": 163,
   "metadata": {},
   "outputs": [],
   "source": [
    "train['start_day'] = train['start_date'] % 100"
   ]
  },
  {
   "cell_type": "code",
   "execution_count": 166,
   "metadata": {},
   "outputs": [],
   "source": [
    "train['start_month'] = (train['start_date'] %10000) //100"
   ]
  },
  {
   "cell_type": "code",
   "execution_count": 167,
   "metadata": {
    "collapsed": true
   },
   "outputs": [],
   "source": [
    "test['start_year'] = test['start_date'] // 10000\n",
    "test['start_day'] = test['start_date'] % 100\n",
    "test['start_month'] = (test['start_date'] %10000) //100"
   ]
  },
  {
   "cell_type": "code",
   "execution_count": 169,
   "metadata": {},
   "outputs": [],
   "source": [
    "train['creation_day'] = train['creation_date'] %100 "
   ]
  },
  {
   "cell_type": "code",
   "execution_count": 171,
   "metadata": {
    "collapsed": true
   },
   "outputs": [],
   "source": [
    "test['creation_day'] = test['creation_date'] %100 "
   ]
  },
  {
   "cell_type": "code",
   "execution_count": 172,
   "metadata": {},
   "outputs": [],
   "source": [
    "train['diff'] = train['creation_day'] - train['start_day']"
   ]
  },
  {
   "cell_type": "code",
   "execution_count": 173,
   "metadata": {
    "collapsed": true
   },
   "outputs": [],
   "source": [
    "test['diff'] = test['creation_day'] - test['start_day']"
   ]
  },
  {
   "cell_type": "code",
   "execution_count": 174,
   "metadata": {
    "collapsed": true
   },
   "outputs": [],
   "source": [
    "test['sell_year'] = test['sell_date'] // 10000\n",
    "test['sell_day'] = test['sell_date'] % 100\n",
    "test['sell_month'] = (test['sell_date'] %10000) //100"
   ]
  },
  {
   "cell_type": "code",
   "execution_count": 175,
   "metadata": {
    "collapsed": true
   },
   "outputs": [],
   "source": [
    "train['sell_year'] = train['sell_date'] // 10000\n",
    "train['sell_day'] = train['sell_date'] % 100\n",
    "train['sell_month'] = (train['sell_date'] %10000) //100"
   ]
  },
  {
   "cell_type": "code",
   "execution_count": 176,
   "metadata": {
    "collapsed": true
   },
   "outputs": [],
   "source": [
    "train['diff_year'] = train['sell_year']- train['start_year'] "
   ]
  },
  {
   "cell_type": "code",
   "execution_count": 181,
   "metadata": {},
   "outputs": [
    {
     "data": {
      "text/plain": [
       "0     4201\n",
       "1     3522\n",
       "3      618\n",
       "2      403\n",
       "11     300\n",
       "9      218\n",
       "10      64\n",
       "4       18\n",
       "8       14\n",
       "6        6\n",
       "7        1\n",
       "5        1\n",
       "Name: diff_month, dtype: int64"
      ]
     },
     "execution_count": 181,
     "metadata": {},
     "output_type": "execute_result"
    }
   ],
   "source": [
    "train.diff_month.value_counts()"
   ]
  },
  {
   "cell_type": "code",
   "execution_count": 180,
   "metadata": {
    "collapsed": true
   },
   "outputs": [],
   "source": [
    "train['diff_month'] = abs(train['sell_month'] - train['start_month'])"
   ]
  },
  {
   "cell_type": "code",
   "execution_count": 182,
   "metadata": {
    "collapsed": true
   },
   "outputs": [],
   "source": [
    "train['diff_day'] = train['sell_day'] - train['start_day']"
   ]
  },
  {
   "cell_type": "code",
   "execution_count": 183,
   "metadata": {
    "collapsed": true
   },
   "outputs": [],
   "source": [
    "test['diff_year'] = test['sell_year']- test['start_year'] \n",
    "test['diff_month'] = abs(test['sell_month'] - test['start_month'])\n",
    "test['diff_day'] = test['sell_day'] - test['start_day']"
   ]
  },
  {
   "cell_type": "code",
   "execution_count": 184,
   "metadata": {},
   "outputs": [
    {
     "data": {
      "text/plain": [
       "((9366, 32), (4801, 31))"
      ]
     },
     "execution_count": 184,
     "metadata": {},
     "output_type": "execute_result"
    }
   ],
   "source": [
    "train.shape , test.shape"
   ]
  },
  {
   "cell_type": "code",
   "execution_count": 185,
   "metadata": {
    "collapsed": true
   },
   "outputs": [],
   "source": [
    "train.to_csv('train_mod.csv',index=False\n",
    "            )"
   ]
  },
  {
   "cell_type": "code",
   "execution_count": 187,
   "metadata": {},
   "outputs": [],
   "source": [
    "test.to_csv('test_mod.csv',index=False)"
   ]
  },
  {
   "cell_type": "code",
   "execution_count": null,
   "metadata": {
    "collapsed": true
   },
   "outputs": [],
   "source": []
  }
 ],
 "metadata": {
  "kernelspec": {
   "display_name": "Python 2",
   "language": "python",
   "name": "python2"
  },
  "language_info": {
   "codemirror_mode": {
    "name": "ipython",
    "version": 2
   },
   "file_extension": ".py",
   "mimetype": "text/x-python",
   "name": "python",
   "nbconvert_exporter": "python",
   "pygments_lexer": "ipython2",
   "version": "2.7.13"
  }
 },
 "nbformat": 4,
 "nbformat_minor": 2
}
